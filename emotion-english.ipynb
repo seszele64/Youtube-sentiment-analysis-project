{
 "cells": [
  {
   "cell_type": "code",
   "execution_count": null,
   "metadata": {},
   "outputs": [],
   "source": [
    "from transformers import AutoModelForSequenceClassification, pipeline\n",
    "\n",
    "model_name = 'jitesh/emotion-english'\n",
    "model = AutoModelForSequenceClassification.from_pretrained(model_name)\n",
    "classifier = pipeline(\"text-classification\", model=model, tokenizer=model_name)\n",
    "\n",
    "text = \"I can't wait any longer \"\n",
    "\n",
    "prediction = classifier(text)\n",
    "print(prediction[0], text)"
   ]
  }
 ],
 "metadata": {
  "kernelspec": {
   "display_name": "base",
   "language": "python",
   "name": "python3"
  },
  "language_info": {
   "name": "python",
   "version": "3.9.17"
  }
 },
 "nbformat": 4,
 "nbformat_minor": 2
}
