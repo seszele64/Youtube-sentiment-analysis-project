{
 "cells": [
  {
   "cell_type": "code",
   "execution_count": 48,
   "metadata": {},
   "outputs": [
    {
     "name": "stdout",
     "output_type": "stream",
     "text": [
      "+-----------+--------------------+--------------------+--------------------+--------------------+----------+--------------------+--------------------+----------+------+--------+-------------+--------------------+-----------------+----------------+--------------------+\n",
      "|   video_id|               title|         publishedAt|           channelId|        channelTitle|categoryId|       trending_date|                tags|view_count| likes|dislikes|comment_count|      thumbnail_link|comments_disabled|ratings_disabled|         description|\n",
      "+-----------+--------------------+--------------------+--------------------+--------------------+----------+--------------------+--------------------+----------+------+--------+-------------+--------------------+-----------------+----------------+--------------------+\n",
      "|3C66w5Z0ixs|I ASKED HER TO BE...|2020-08-11T19:20:14Z|UCvtRTOMP2TqYqu51...|            Brawadis|        22|2020-08-12T00:00:00Z|brawadis|prank|ba...|   1514614|156908|    5855|        35313|https://i.ytimg.c...|            false|           false|SUBSCRIBE to BRAW...|\n",
      "|M9Pmf9AB4Mo|Apex Legends | St...|2020-08-11T17:00:10Z|UC0ZV6M2THA81QT9h...|        Apex Legends|        20|2020-08-12T00:00:00Z|Apex Legends|Apex...|   2381688|146739|    2794|        16549|https://i.ytimg.c...|            false|           false|While running her...|\n",
      "|J78aPJ3VyNs|I left youtube fo...|2020-08-11T16:34:06Z|UCYzPXprvl5Y-Sf0g...|       jacksepticeye|        24|2020-08-12T00:00:00Z|jacksepticeye|fun...|   2038853|353787|    2628|        40221|https://i.ytimg.c...|            false|           false|I left youtube fo...|\n",
      "|kXLn3HkpjaA|XXL 2020 Freshman...|2020-08-11T16:38:55Z|UCbg_UMjlHJg_19SZ...|                 XXL|        10|2020-08-12T00:00:00Z|xxl freshman|xxl ...|    496771| 23251|    1856|         7647|https://i.ytimg.c...|            false|           false|Subscribe to XXL ...|\n",
      "|VIUo6yapDbc|Ultimate DIY Home...|2020-08-11T15:10:05Z|UCDVPcEbVLQgLZX0R...|            Mr. Kate|        26|2020-08-12T00:00:00Z|The LaBrant Famil...|   1123889| 45802|     964|         2196|https://i.ytimg.c...|            false|           false|Transforming The ...|\n",
      "|w-aidBdvZo8|I Haven't Been Ho...|2020-08-11T20:00:04Z|UC5zJwsFtEs9WYe3A...|      Professor Live|        24|2020-08-12T00:00:00Z|Professor injury|...|    949491| 77487|     746|         7506|https://i.ytimg.c...|            false|           false|Subscribe To My C...|\n",
      "|uet14uf9NsE|OUR FIRST FAMILY ...|2020-08-12T00:17:41Z|UCDSJCBYqL7VQrlXf...|       Les Do Makeup|        26|2020-08-12T00:00:00Z|              [None]|    470446| 47990|     440|         4558|https://i.ytimg.c...|            false|           false|Hi babygirls!  Th...|\n",
      "|ua4QMFQATco|  CGP Grey was WRONG|2020-08-11T17:15:11Z|UC2C_jShtL725hvbm...|            CGP Grey|        27|2020-08-12T00:00:00Z|cgpgrey|education...|   1050143| 89190|     854|         6455|https://i.ytimg.c...|            false|           false|‣ What Was TEKOI:...|\n",
      "|SnsPZj91R7E|SURPRISING MY DAD...|2020-08-10T22:26:59Z|UCZDdF_p-L88NWVpz...|        Louie's Life|        24|2020-08-12T00:00:00Z|surprising|dad|fa...|   1402687| 95694|    2158|         6613|https://i.ytimg.c...|            false|           false|Since I was littl...|\n",
      "|SsWHMAhshPQ|Ovi x Natanael Ca...|2020-08-11T23:00:10Z|UC648rgJOboZlgcDb...|      Rancho Humilde|        10|2020-08-12T00:00:00Z|Vengo De Nada|Ale...|    741028|113983|    4373|         5618|https://i.ytimg.c...|            false|           false|Vengo De Nada - O...|\n",
      "|49Z6Mv4_WCA|i don't know what...|2020-08-11T20:24:34Z|UCtinbF-Q-fVthA0q...|        CaseyNeistat|        22|2020-08-12T00:00:00Z|              [None]|    940036| 87111|    1860|         7052|https://i.ytimg.c...|            false|           false|ssend love to my ...|\n",
      "|nt3VVyv5pxQ|Try Not To Laugh ...|2020-08-11T17:00:31Z|UCYJPby9DRCteedh5...|           Smosh Pit|        22|2020-08-12T00:00:00Z|smosh|smosh pit|s...|    591837| 44168|     409|         2652|https://i.ytimg.c...|            false|           false|You know what tim...|\n",
      "|I6hswz4rIrU|Rainbow Six Siege...|2020-08-11T17:13:53Z|UCBMvc6jvuTxH6TNo...|Ubisoft North Ame...|        20|2020-08-12T00:00:00Z|R6|R6S|Siege|New ...|    320872| 14288|     774|         2085|https://i.ytimg.c...|            false|           false|“Prepare. Execute...|\n",
      "|W7VK4DUHvKU|Lil Yachty & Futu...|2020-08-11T19:00:10Z|UC1X3TRsCt36QPjF1...|       LilYachtyVEVO|        10|2020-08-12T00:00:00Z|Lil Yachty|Lil Bo...|    413372| 26440|     293|         1495|https://i.ytimg.c...|            false|           false|Watch the officia...|\n",
      "|W9Aen8hG20Y|When Our Generati...|2020-08-10T22:33:48Z|UCR9NuNwCUIhMOLUQ...|           Kyle Exum|        23|2020-08-12T00:00:00Z|When Our Generati...|    921261|124183|    1678|        16460|https://i.ytimg.c...|            false|           false|500,000 Likes and...|\n",
      "|BNeDH6UTmXw|Ten Minutes with ...|2020-08-11T22:00:05Z|UCMw7m-ScQ6jV1FQz...|       Tyler Cameron|        22|2020-08-12T00:00:00Z|the bachelor|the ...|    105955|  4511|      69|          673|https://i.ytimg.c...|            false|           false|Come hang out me ...|\n",
      "|6TIsR_7nrNc|Kylie Jenner Reac...|2020-08-10T18:41:19Z|UC2rJLq19N0dGrxfi...|       HollywoodLife|        24|2020-08-12T00:00:00Z|kylie jenner|kend...|   1007540| 10102|    7932|         2763|https://i.ytimg.c...|            false|           false|Kylie Jenner diss...|\n",
      "|gPdUslndvVI|Our Farm Got Dest...|2020-08-11T23:00:06Z|UCuxlXCfVyV-i5YLL...|   Cole The Cornstar|        22|2020-08-12T00:00:00Z|farming|family fa...|    277338| 37533|     197|         3666|https://i.ytimg.c...|            false|           false|Wind storm, rain,...|\n",
      "|GTp-0S82guE|      Time to Talk..|2020-08-11T12:04:40Z|UCCgLoMYIyP0U56dE...|          Chloe Ting|        26|2020-08-12T00:00:00Z|chloe ting|chloet...|   1648441|130147|    1425|        15773|https://i.ytimg.c...|            false|           false|I talked about so...|\n",
      "|jbGRowa5tIk|ITZY “Not Shy” M/...|2020-08-11T15:00:13Z|UCaO6TYtlC8U5ttz6...|   JYP Entertainment|        10|2020-08-12T00:00:00Z|JYP Entertainment...|   5999732|714287|   15174|        31039|https://i.ytimg.c...|            false|           false|ITZY Not Shy M/V[...|\n",
      "+-----------+--------------------+--------------------+--------------------+--------------------+----------+--------------------+--------------------+----------+------+--------+-------------+--------------------+-----------------+----------------+--------------------+\n",
      "only showing top 20 rows\n",
      "\n"
     ]
    }
   ],
   "source": [
    "# load parquet file into pandas dataframe\n",
    "import pandas as pd\n",
    "\n",
    "from spark_session_manager import SparkSessionManager\n",
    "\n",
    "file = \"data/processed/processed_US_youtube_trending_data.parquet\"\n",
    "spark = SparkSessionManager.get_spark_session()\n",
    "\n",
    "df = spark.read.parquet(file)\n",
    "df.show()"
   ]
  },
  {
   "cell_type": "markdown",
   "metadata": {},
   "source": [
    "## Basic stats"
   ]
  },
  {
   "cell_type": "code",
   "execution_count": 49,
   "metadata": {},
   "outputs": [
    {
     "name": "stdout",
     "output_type": "stream",
     "text": [
      "+-------+-----------------+------------------+-----------------+------------------+\n",
      "|summary|       view_count|             likes|         dislikes|     comment_count|\n",
      "+-------+-----------------+------------------+-----------------+------------------+\n",
      "|  count|           260787|            260787|           260787|            260787|\n",
      "|   mean|2692467.785077477| 131219.9604351444|1169.073017443354|10208.705188525502|\n",
      "| stddev|8729430.316258574|452251.69212524034|8167.300333295418| 73606.70150388633|\n",
      "|    min|                0|                 0|                0|                 0|\n",
      "|    max|        277791741|          16021534|           879354|           6738537|\n",
      "+-------+-----------------+------------------+-----------------+------------------+\n",
      "\n"
     ]
    }
   ],
   "source": [
    "df.describe([\"view_count\", \"likes\", \"dislikes\", \"comment_count\"]).show()\n"
   ]
  },
  {
   "cell_type": "markdown",
   "metadata": {},
   "source": [
    "## Category Distribution"
   ]
  },
  {
   "cell_type": "code",
   "execution_count": 50,
   "metadata": {},
   "outputs": [
    {
     "name": "stdout",
     "output_type": "stream",
     "text": [
      "+----------+-----+\n",
      "|categoryId|count|\n",
      "+----------+-----+\n",
      "|        24|52387|\n",
      "|        20|51741|\n",
      "|        10|42139|\n",
      "|        17|30298|\n",
      "|        22|22036|\n",
      "|        23|12840|\n",
      "|         1|10514|\n",
      "|        25| 9328|\n",
      "|        28| 7909|\n",
      "|        26| 6853|\n",
      "|        27| 6456|\n",
      "|         2| 5303|\n",
      "|        19| 1654|\n",
      "|        15| 1209|\n",
      "|        29|  120|\n",
      "+----------+-----+\n",
      "\n"
     ]
    }
   ],
   "source": [
    "from pyspark.sql.functions import col\n",
    "\n",
    "df.groupBy(\"categoryId\").count().orderBy(col(\"count\").desc()).show()\n"
   ]
  },
  {
   "cell_type": "markdown",
   "metadata": {},
   "source": [
    "## Correlation Analysis"
   ]
  },
  {
   "cell_type": "code",
   "execution_count": 51,
   "metadata": {},
   "outputs": [
    {
     "name": "stdout",
     "output_type": "stream",
     "text": [
      "Correlation between view_count and likes:  0.8775228350162958\n",
      "Correlation between view_count and dislikes:  0.35551205161846894\n",
      "Correlation between view_count and comment_count:  0.5225916085459964\n",
      "Correlation between likes and view_count:  0.8775228350162957\n"
     ]
    },
    {
     "name": "stdout",
     "output_type": "stream",
     "text": [
      "Correlation between likes and dislikes:  0.38891483068449884\n",
      "Correlation between likes and comment_count:  0.6891492201977747\n",
      "Correlation between dislikes and view_count:  0.35551205161846905\n",
      "Correlation between dislikes and likes:  0.38891483068449884\n",
      "Correlation between dislikes and comment_count:  0.4174365117965227\n",
      "Correlation between comment_count and view_count:  0.5225916085459963\n",
      "Correlation between comment_count and likes:  0.6891492201977747\n",
      "Correlation between comment_count and dislikes:  0.4174365117965227\n"
     ]
    }
   ],
   "source": [
    "numeric_features = [\"view_count\", \"likes\", \"dislikes\", \"comment_count\"]\n",
    "for i in numeric_features:\n",
    "    for j in numeric_features:\n",
    "        if i != j:  # Avoid comparing a variable with itself\n",
    "            print(f\"Correlation between {i} and {j}: \", df.stat.corr(i, j))\n"
   ]
  },
  {
   "cell_type": "code",
   "execution_count": 67,
   "metadata": {},
   "outputs": [
    {
     "name": "stdout",
     "output_type": "stream",
     "text": [
      "Pearson correlation matrix:\n",
      "DenseMatrix([[1.        , 0.87752284, 0.35551205, 0.52259161],\n",
      "             [0.87752284, 1.        , 0.38891483, 0.68914922],\n",
      "             [0.35551205, 0.38891483, 1.        , 0.41743651],\n",
      "             [0.52259161, 0.68914922, 0.41743651, 1.        ]])\n"
     ]
    }
   ],
   "source": [
    "# build a correlation matrix\n",
    "from pyspark.ml.feature import VectorAssembler\n",
    "\n",
    "assembler = VectorAssembler(inputCols=numeric_features, outputCol=\"features\")\n",
    "df_vector = assembler.transform(df)\n",
    "\n",
    "from pyspark.ml.stat import Correlation\n",
    "\n",
    "pearson_corr = Correlation.corr(df_vector, \"features\").head()\n",
    "\n",
    "print(\"Pearson correlation matrix:\\n\" + str(pearson_corr[0]))\n",
    "\n"
   ]
  },
  {
   "cell_type": "code",
   "execution_count": 80,
   "metadata": {},
   "outputs": [
    {
     "data": {
      "application/vnd.plotly.v1+json": {
       "config": {
        "plotlyServerURL": "https://plot.ly"
       },
       "data": [
        {
         "colorscale": [
          [
           0,
           "rgb(247,252,245)"
          ],
          [
           0.125,
           "rgb(229,245,224)"
          ],
          [
           0.25,
           "rgb(199,233,192)"
          ],
          [
           0.375,
           "rgb(161,217,155)"
          ],
          [
           0.5,
           "rgb(116,196,118)"
          ],
          [
           0.625,
           "rgb(65,171,93)"
          ],
          [
           0.75,
           "rgb(35,139,69)"
          ],
          [
           0.875,
           "rgb(0,109,44)"
          ],
          [
           1,
           "rgb(0,68,27)"
          ]
         ],
         "type": "heatmap",
         "x": [
          "view_count",
          "likes",
          "dislikes",
          "comment_count"
         ],
         "y": [
          "view_count",
          "likes",
          "dislikes",
          "comment_count"
         ],
         "z": [
          [
           1,
           0.8775228350162864,
           0.35551205161797816,
           0.5225916085459695
          ],
          [
           0.8775228350162864,
           1,
           0.38891483068398575,
           0.6891492201977338
          ],
          [
           0.35551205161797816,
           0.38891483068398575,
           1,
           0.41743651179594315
          ],
          [
           0.5225916085459695,
           0.6891492201977338,
           0.41743651179594315,
           1
          ]
         ]
        }
       ],
       "layout": {
        "annotations": [
         {
          "showarrow": false,
          "text": "1.0",
          "x": 0,
          "y": 0
         },
         {
          "showarrow": false,
          "text": "0.88",
          "x": 0,
          "y": 1
         },
         {
          "showarrow": false,
          "text": "0.36",
          "x": 0,
          "y": 2
         },
         {
          "showarrow": false,
          "text": "0.52",
          "x": 0,
          "y": 3
         },
         {
          "showarrow": false,
          "text": "0.88",
          "x": 1,
          "y": 0
         },
         {
          "showarrow": false,
          "text": "1.0",
          "x": 1,
          "y": 1
         },
         {
          "showarrow": false,
          "text": "0.39",
          "x": 1,
          "y": 2
         },
         {
          "showarrow": false,
          "text": "0.69",
          "x": 1,
          "y": 3
         },
         {
          "showarrow": false,
          "text": "0.36",
          "x": 2,
          "y": 0
         },
         {
          "showarrow": false,
          "text": "0.39",
          "x": 2,
          "y": 1
         },
         {
          "showarrow": false,
          "text": "1.0",
          "x": 2,
          "y": 2
         },
         {
          "showarrow": false,
          "text": "0.42",
          "x": 2,
          "y": 3
         },
         {
          "showarrow": false,
          "text": "0.52",
          "x": 3,
          "y": 0
         },
         {
          "showarrow": false,
          "text": "0.69",
          "x": 3,
          "y": 1
         },
         {
          "showarrow": false,
          "text": "0.42",
          "x": 3,
          "y": 2
         },
         {
          "showarrow": false,
          "text": "1.0",
          "x": 3,
          "y": 3
         }
        ],
        "font": {
         "color": "black",
         "family": "Courier New, monospace",
         "size": 18
        },
        "height": 800,
        "template": {
         "data": {
          "bar": [
           {
            "error_x": {
             "color": "#2a3f5f"
            },
            "error_y": {
             "color": "#2a3f5f"
            },
            "marker": {
             "line": {
              "color": "#E5ECF6",
              "width": 0.5
             },
             "pattern": {
              "fillmode": "overlay",
              "size": 10,
              "solidity": 0.2
             }
            },
            "type": "bar"
           }
          ],
          "barpolar": [
           {
            "marker": {
             "line": {
              "color": "#E5ECF6",
              "width": 0.5
             },
             "pattern": {
              "fillmode": "overlay",
              "size": 10,
              "solidity": 0.2
             }
            },
            "type": "barpolar"
           }
          ],
          "carpet": [
           {
            "aaxis": {
             "endlinecolor": "#2a3f5f",
             "gridcolor": "white",
             "linecolor": "white",
             "minorgridcolor": "white",
             "startlinecolor": "#2a3f5f"
            },
            "baxis": {
             "endlinecolor": "#2a3f5f",
             "gridcolor": "white",
             "linecolor": "white",
             "minorgridcolor": "white",
             "startlinecolor": "#2a3f5f"
            },
            "type": "carpet"
           }
          ],
          "choropleth": [
           {
            "colorbar": {
             "outlinewidth": 0,
             "ticks": ""
            },
            "type": "choropleth"
           }
          ],
          "contour": [
           {
            "colorbar": {
             "outlinewidth": 0,
             "ticks": ""
            },
            "colorscale": [
             [
              0,
              "#0d0887"
             ],
             [
              0.1111111111111111,
              "#46039f"
             ],
             [
              0.2222222222222222,
              "#7201a8"
             ],
             [
              0.3333333333333333,
              "#9c179e"
             ],
             [
              0.4444444444444444,
              "#bd3786"
             ],
             [
              0.5555555555555556,
              "#d8576b"
             ],
             [
              0.6666666666666666,
              "#ed7953"
             ],
             [
              0.7777777777777778,
              "#fb9f3a"
             ],
             [
              0.8888888888888888,
              "#fdca26"
             ],
             [
              1,
              "#f0f921"
             ]
            ],
            "type": "contour"
           }
          ],
          "contourcarpet": [
           {
            "colorbar": {
             "outlinewidth": 0,
             "ticks": ""
            },
            "type": "contourcarpet"
           }
          ],
          "heatmap": [
           {
            "colorbar": {
             "outlinewidth": 0,
             "ticks": ""
            },
            "colorscale": [
             [
              0,
              "#0d0887"
             ],
             [
              0.1111111111111111,
              "#46039f"
             ],
             [
              0.2222222222222222,
              "#7201a8"
             ],
             [
              0.3333333333333333,
              "#9c179e"
             ],
             [
              0.4444444444444444,
              "#bd3786"
             ],
             [
              0.5555555555555556,
              "#d8576b"
             ],
             [
              0.6666666666666666,
              "#ed7953"
             ],
             [
              0.7777777777777778,
              "#fb9f3a"
             ],
             [
              0.8888888888888888,
              "#fdca26"
             ],
             [
              1,
              "#f0f921"
             ]
            ],
            "type": "heatmap"
           }
          ],
          "heatmapgl": [
           {
            "colorbar": {
             "outlinewidth": 0,
             "ticks": ""
            },
            "colorscale": [
             [
              0,
              "#0d0887"
             ],
             [
              0.1111111111111111,
              "#46039f"
             ],
             [
              0.2222222222222222,
              "#7201a8"
             ],
             [
              0.3333333333333333,
              "#9c179e"
             ],
             [
              0.4444444444444444,
              "#bd3786"
             ],
             [
              0.5555555555555556,
              "#d8576b"
             ],
             [
              0.6666666666666666,
              "#ed7953"
             ],
             [
              0.7777777777777778,
              "#fb9f3a"
             ],
             [
              0.8888888888888888,
              "#fdca26"
             ],
             [
              1,
              "#f0f921"
             ]
            ],
            "type": "heatmapgl"
           }
          ],
          "histogram": [
           {
            "marker": {
             "pattern": {
              "fillmode": "overlay",
              "size": 10,
              "solidity": 0.2
             }
            },
            "type": "histogram"
           }
          ],
          "histogram2d": [
           {
            "colorbar": {
             "outlinewidth": 0,
             "ticks": ""
            },
            "colorscale": [
             [
              0,
              "#0d0887"
             ],
             [
              0.1111111111111111,
              "#46039f"
             ],
             [
              0.2222222222222222,
              "#7201a8"
             ],
             [
              0.3333333333333333,
              "#9c179e"
             ],
             [
              0.4444444444444444,
              "#bd3786"
             ],
             [
              0.5555555555555556,
              "#d8576b"
             ],
             [
              0.6666666666666666,
              "#ed7953"
             ],
             [
              0.7777777777777778,
              "#fb9f3a"
             ],
             [
              0.8888888888888888,
              "#fdca26"
             ],
             [
              1,
              "#f0f921"
             ]
            ],
            "type": "histogram2d"
           }
          ],
          "histogram2dcontour": [
           {
            "colorbar": {
             "outlinewidth": 0,
             "ticks": ""
            },
            "colorscale": [
             [
              0,
              "#0d0887"
             ],
             [
              0.1111111111111111,
              "#46039f"
             ],
             [
              0.2222222222222222,
              "#7201a8"
             ],
             [
              0.3333333333333333,
              "#9c179e"
             ],
             [
              0.4444444444444444,
              "#bd3786"
             ],
             [
              0.5555555555555556,
              "#d8576b"
             ],
             [
              0.6666666666666666,
              "#ed7953"
             ],
             [
              0.7777777777777778,
              "#fb9f3a"
             ],
             [
              0.8888888888888888,
              "#fdca26"
             ],
             [
              1,
              "#f0f921"
             ]
            ],
            "type": "histogram2dcontour"
           }
          ],
          "mesh3d": [
           {
            "colorbar": {
             "outlinewidth": 0,
             "ticks": ""
            },
            "type": "mesh3d"
           }
          ],
          "parcoords": [
           {
            "line": {
             "colorbar": {
              "outlinewidth": 0,
              "ticks": ""
             }
            },
            "type": "parcoords"
           }
          ],
          "pie": [
           {
            "automargin": true,
            "type": "pie"
           }
          ],
          "scatter": [
           {
            "fillpattern": {
             "fillmode": "overlay",
             "size": 10,
             "solidity": 0.2
            },
            "type": "scatter"
           }
          ],
          "scatter3d": [
           {
            "line": {
             "colorbar": {
              "outlinewidth": 0,
              "ticks": ""
             }
            },
            "marker": {
             "colorbar": {
              "outlinewidth": 0,
              "ticks": ""
             }
            },
            "type": "scatter3d"
           }
          ],
          "scattercarpet": [
           {
            "marker": {
             "colorbar": {
              "outlinewidth": 0,
              "ticks": ""
             }
            },
            "type": "scattercarpet"
           }
          ],
          "scattergeo": [
           {
            "marker": {
             "colorbar": {
              "outlinewidth": 0,
              "ticks": ""
             }
            },
            "type": "scattergeo"
           }
          ],
          "scattergl": [
           {
            "marker": {
             "colorbar": {
              "outlinewidth": 0,
              "ticks": ""
             }
            },
            "type": "scattergl"
           }
          ],
          "scattermapbox": [
           {
            "marker": {
             "colorbar": {
              "outlinewidth": 0,
              "ticks": ""
             }
            },
            "type": "scattermapbox"
           }
          ],
          "scatterpolar": [
           {
            "marker": {
             "colorbar": {
              "outlinewidth": 0,
              "ticks": ""
             }
            },
            "type": "scatterpolar"
           }
          ],
          "scatterpolargl": [
           {
            "marker": {
             "colorbar": {
              "outlinewidth": 0,
              "ticks": ""
             }
            },
            "type": "scatterpolargl"
           }
          ],
          "scatterternary": [
           {
            "marker": {
             "colorbar": {
              "outlinewidth": 0,
              "ticks": ""
             }
            },
            "type": "scatterternary"
           }
          ],
          "surface": [
           {
            "colorbar": {
             "outlinewidth": 0,
             "ticks": ""
            },
            "colorscale": [
             [
              0,
              "#0d0887"
             ],
             [
              0.1111111111111111,
              "#46039f"
             ],
             [
              0.2222222222222222,
              "#7201a8"
             ],
             [
              0.3333333333333333,
              "#9c179e"
             ],
             [
              0.4444444444444444,
              "#bd3786"
             ],
             [
              0.5555555555555556,
              "#d8576b"
             ],
             [
              0.6666666666666666,
              "#ed7953"
             ],
             [
              0.7777777777777778,
              "#fb9f3a"
             ],
             [
              0.8888888888888888,
              "#fdca26"
             ],
             [
              1,
              "#f0f921"
             ]
            ],
            "type": "surface"
           }
          ],
          "table": [
           {
            "cells": {
             "fill": {
              "color": "#EBF0F8"
             },
             "line": {
              "color": "white"
             }
            },
            "header": {
             "fill": {
              "color": "#C8D4E3"
             },
             "line": {
              "color": "white"
             }
            },
            "type": "table"
           }
          ]
         },
         "layout": {
          "annotationdefaults": {
           "arrowcolor": "#2a3f5f",
           "arrowhead": 0,
           "arrowwidth": 1
          },
          "autotypenumbers": "strict",
          "coloraxis": {
           "colorbar": {
            "outlinewidth": 0,
            "ticks": ""
           }
          },
          "colorscale": {
           "diverging": [
            [
             0,
             "#8e0152"
            ],
            [
             0.1,
             "#c51b7d"
            ],
            [
             0.2,
             "#de77ae"
            ],
            [
             0.3,
             "#f1b6da"
            ],
            [
             0.4,
             "#fde0ef"
            ],
            [
             0.5,
             "#f7f7f7"
            ],
            [
             0.6,
             "#e6f5d0"
            ],
            [
             0.7,
             "#b8e186"
            ],
            [
             0.8,
             "#7fbc41"
            ],
            [
             0.9,
             "#4d9221"
            ],
            [
             1,
             "#276419"
            ]
           ],
           "sequential": [
            [
             0,
             "#0d0887"
            ],
            [
             0.1111111111111111,
             "#46039f"
            ],
            [
             0.2222222222222222,
             "#7201a8"
            ],
            [
             0.3333333333333333,
             "#9c179e"
            ],
            [
             0.4444444444444444,
             "#bd3786"
            ],
            [
             0.5555555555555556,
             "#d8576b"
            ],
            [
             0.6666666666666666,
             "#ed7953"
            ],
            [
             0.7777777777777778,
             "#fb9f3a"
            ],
            [
             0.8888888888888888,
             "#fdca26"
            ],
            [
             1,
             "#f0f921"
            ]
           ],
           "sequentialminus": [
            [
             0,
             "#0d0887"
            ],
            [
             0.1111111111111111,
             "#46039f"
            ],
            [
             0.2222222222222222,
             "#7201a8"
            ],
            [
             0.3333333333333333,
             "#9c179e"
            ],
            [
             0.4444444444444444,
             "#bd3786"
            ],
            [
             0.5555555555555556,
             "#d8576b"
            ],
            [
             0.6666666666666666,
             "#ed7953"
            ],
            [
             0.7777777777777778,
             "#fb9f3a"
            ],
            [
             0.8888888888888888,
             "#fdca26"
            ],
            [
             1,
             "#f0f921"
            ]
           ]
          },
          "colorway": [
           "#636efa",
           "#EF553B",
           "#00cc96",
           "#ab63fa",
           "#FFA15A",
           "#19d3f3",
           "#FF6692",
           "#B6E880",
           "#FF97FF",
           "#FECB52"
          ],
          "font": {
           "color": "#2a3f5f"
          },
          "geo": {
           "bgcolor": "white",
           "lakecolor": "white",
           "landcolor": "#E5ECF6",
           "showlakes": true,
           "showland": true,
           "subunitcolor": "white"
          },
          "hoverlabel": {
           "align": "left"
          },
          "hovermode": "closest",
          "mapbox": {
           "style": "light"
          },
          "paper_bgcolor": "white",
          "plot_bgcolor": "#E5ECF6",
          "polar": {
           "angularaxis": {
            "gridcolor": "white",
            "linecolor": "white",
            "ticks": ""
           },
           "bgcolor": "#E5ECF6",
           "radialaxis": {
            "gridcolor": "white",
            "linecolor": "white",
            "ticks": ""
           }
          },
          "scene": {
           "xaxis": {
            "backgroundcolor": "#E5ECF6",
            "gridcolor": "white",
            "gridwidth": 2,
            "linecolor": "white",
            "showbackground": true,
            "ticks": "",
            "zerolinecolor": "white"
           },
           "yaxis": {
            "backgroundcolor": "#E5ECF6",
            "gridcolor": "white",
            "gridwidth": 2,
            "linecolor": "white",
            "showbackground": true,
            "ticks": "",
            "zerolinecolor": "white"
           },
           "zaxis": {
            "backgroundcolor": "#E5ECF6",
            "gridcolor": "white",
            "gridwidth": 2,
            "linecolor": "white",
            "showbackground": true,
            "ticks": "",
            "zerolinecolor": "white"
           }
          },
          "shapedefaults": {
           "line": {
            "color": "#2a3f5f"
           }
          },
          "ternary": {
           "aaxis": {
            "gridcolor": "white",
            "linecolor": "white",
            "ticks": ""
           },
           "baxis": {
            "gridcolor": "white",
            "linecolor": "white",
            "ticks": ""
           },
           "bgcolor": "#E5ECF6",
           "caxis": {
            "gridcolor": "white",
            "linecolor": "white",
            "ticks": ""
           }
          },
          "title": {
           "x": 0.05
          },
          "xaxis": {
           "automargin": true,
           "gridcolor": "white",
           "linecolor": "white",
           "ticks": "",
           "title": {
            "standoff": 15
           },
           "zerolinecolor": "white",
           "zerolinewidth": 2
          },
          "yaxis": {
           "automargin": true,
           "gridcolor": "white",
           "linecolor": "white",
           "ticks": "",
           "title": {
            "standoff": 15
           },
           "zerolinecolor": "white",
           "zerolinewidth": 2
          }
         }
        },
        "title": {
         "text": "Correlation matrix of numerical features",
         "x": 0.5
        },
        "width": 800,
        "xaxis": {
         "tickfont": {
          "color": "black",
          "family": "Courier New, monospace",
          "size": 18
         }
        },
        "yaxis": {
         "tickfont": {
          "color": "black",
          "family": "Courier New, monospace",
          "size": 18
         }
        }
       }
      }
     },
     "metadata": {},
     "output_type": "display_data"
    }
   ],
   "source": [
    "# use plotly go.Figure to visualize the correlation matrix\n",
    "import plotly.graph_objects as go\n",
    "\n",
    "fig = go.Figure(data=go.Heatmap(\n",
    "    z=pearson_corr[0].toArray(),\n",
    "    x=numeric_features,\n",
    "    y=numeric_features,\n",
    "    colorscale='Greens'))\n",
    "\n",
    "# add labels with values\n",
    "for i in range(len(numeric_features)):\n",
    "    for j in range(len(numeric_features)):\n",
    "        fig.add_annotation(\n",
    "            x=i, y=j,\n",
    "            text=str(round(pearson_corr[0].toArray()[i][j], 2)),\n",
    "            showarrow=False)\n",
    "\n",
    "# change style of labels to Monospace white font with black outline\n",
    "fig.update_yaxes(tickfont=dict(color='black', family='Courier New, monospace', size=18))\n",
    "fig.update_xaxes(tickfont=dict(color='black', family='Courier New, monospace', size=18))\n",
    "\n",
    "fig.update_layout(\n",
    "    title=\"Correlation matrix of numerical features\",\n",
    "    title_x=0.5,\n",
    "    width=800,\n",
    "    height=800,\n",
    "    # change label font\n",
    "    font=dict(\n",
    "        family=\"Courier New, monospace\",\n",
    "        size=18,\n",
    "        color=\"black\"\n",
    "    )\n",
    ")\n",
    "\n",
    "fig.show()"
   ]
  },
  {
   "cell_type": "markdown",
   "metadata": {},
   "source": [
    "## Engagement Analysis"
   ]
  },
  {
   "cell_type": "code",
   "execution_count": 53,
   "metadata": {},
   "outputs": [
    {
     "name": "stdout",
     "output_type": "stream",
     "text": [
      "+-----------------------------+-------------------+--------------------+--------------------+\n",
      "|                        title|        likes_ratio|      dislikes_ratio|       comment_ratio|\n",
      "+-----------------------------+-------------------+--------------------+--------------------+\n",
      "|         [STATION] CHANYEO...|0.43350277437514917|8.817246297052436E-4| 0.11126694163850868|\n",
      "|         girl in red - two...| 0.3908704408144999|8.816289997762363E-4| 0.02422913403445961|\n",
      "|           ghost + guest 👻🎶|0.37362285307466403|1.957817922933167...|0.020788466672599447|\n",
      "|         IT'S MY BIRTHDAY ...| 0.3711927592313242|0.001495900832950...| 0.07761264511051354|\n",
      "|TXT (투모로우바이투게더) '...| 0.3606300739997776|0.001726071019226...| 0.03425803774415527|\n",
      "+-----------------------------+-------------------+--------------------+--------------------+\n",
      "only showing top 5 rows\n",
      "\n"
     ]
    }
   ],
   "source": [
    "df.select(\n",
    "    \"title\",\n",
    "    (col(\"likes\") / col(\"view_count\")).alias(\"likes_ratio\"),\n",
    "    (col(\"dislikes\") / col(\"view_count\")).alias(\"dislikes_ratio\"),\n",
    "    (col(\"comment_count\") / col(\"view_count\")).alias(\"comment_ratio\")\n",
    ").orderBy(col(\"likes_ratio\").desc()).show(5)"
   ]
  },
  {
   "cell_type": "markdown",
   "metadata": {},
   "source": [
    "## Time Series Analysis\n"
   ]
  },
  {
   "cell_type": "code",
   "execution_count": 54,
   "metadata": {},
   "outputs": [
    {
     "name": "stdout",
     "output_type": "stream",
     "text": [
      "+----------------+---------------+\n",
      "|publishedAt_date|sum(view_count)|\n",
      "+----------------+---------------+\n",
      "|      2020-08-03|        8257287|\n",
      "|      2020-08-05|       15711937|\n",
      "|      2020-08-06|       92448003|\n",
      "|      2020-08-07|      637964497|\n",
      "|      2020-08-08|      305669994|\n",
      "|      2020-08-09|      255042172|\n",
      "|      2020-08-10|      178660898|\n",
      "|      2020-08-11|      525409368|\n",
      "|      2020-08-12|      120581624|\n",
      "|      2020-08-13|      574566491|\n",
      "|      2020-08-14|      907164535|\n",
      "|      2020-08-15|      407042731|\n",
      "|      2020-08-16|      305527729|\n",
      "|      2020-08-17|      772416732|\n",
      "|      2020-08-18|      695655425|\n",
      "|      2020-08-19|      366439033|\n",
      "|      2020-08-20|      355228147|\n",
      "|      2020-08-21|     1954903659|\n",
      "|      2020-08-22|      315550934|\n",
      "|      2020-08-23|      521486151|\n",
      "+----------------+---------------+\n",
      "only showing top 20 rows\n",
      "\n"
     ]
    }
   ],
   "source": [
    "from pyspark.sql.functions import to_date\n",
    "\n",
    "df.withColumn(\"publishedAt_date\", to_date(\"publishedAt\")).groupBy(\"publishedAt_date\").sum(\"view_count\").orderBy(\"publishedAt_date\").show()"
   ]
  },
  {
   "cell_type": "markdown",
   "metadata": {},
   "source": [
    "## Visualizing EDA Results"
   ]
  },
  {
   "cell_type": "markdown",
   "metadata": {},
   "source": [
    "## Add category names"
   ]
  },
  {
   "cell_type": "markdown",
   "metadata": {},
   "source": [
    "specify schema"
   ]
  },
  {
   "cell_type": "code",
   "execution_count": 55,
   "metadata": {},
   "outputs": [],
   "source": [
    "from pyspark.sql.types import StructType, StructField, StringType, ArrayType\n",
    "from pyspark.sql.functions import explode\n",
    "\n",
    "schema = StructType([\n",
    "    StructField(\"items\", ArrayType(StructType([\n",
    "        StructField(\"id\", StringType(), True),\n",
    "        StructField(\"snippet\", StructType([\n",
    "            StructField(\"title\", StringType(), True),\n",
    "            StructField(\"assignable\", StringType(), True),\n",
    "            StructField(\"channelId\", StringType(), True)\n",
    "        ]), True)\n",
    "    ])), True)\n",
    "])\n",
    "\n",
    "category_json_df = spark.read.schema(schema).json(\"data/US_category_id.json\")\n",
    "category_df = category_json_df.select(explode(\"items\").alias(\"category_item\"))\n",
    "category_df = category_df.select(\n",
    "    \"category_item.id\",\n",
    "    \"category_item.snippet.title\"\n",
    ")\n"
   ]
  },
  {
   "cell_type": "markdown",
   "metadata": {},
   "source": [
    "read json file"
   ]
  },
  {
   "cell_type": "code",
   "execution_count": 56,
   "metadata": {},
   "outputs": [],
   "source": [
    "category_json_df = spark.read.option(\"multiline\", \"true\").json(\"data/US_category_id.json\")\n",
    "\n",
    "category_df = category_json_df.select(explode(\"items\").alias(\"category_item\"))\n",
    "category_df = category_df.select(\n",
    "    col(\"category_item.id\").alias(\"categoryId\"),\n",
    "    col(\"category_item.snippet.title\").alias(\"categoryTitle\")\n",
    ")\n"
   ]
  },
  {
   "cell_type": "markdown",
   "metadata": {},
   "source": [
    "convert categoryid type"
   ]
  },
  {
   "cell_type": "code",
   "execution_count": 57,
   "metadata": {},
   "outputs": [],
   "source": [
    "df = df.withColumn(\"categoryId\", col(\"categoryId\").cast(\"string\"))"
   ]
  },
  {
   "cell_type": "markdown",
   "metadata": {},
   "source": [
    "join dfs"
   ]
  },
  {
   "cell_type": "code",
   "execution_count": 58,
   "metadata": {},
   "outputs": [
    {
     "name": "stdout",
     "output_type": "stream",
     "text": [
      "+-----------+--------------------+--------------+\n",
      "|   video_id|               title| categoryTitle|\n",
      "+-----------+--------------------+--------------+\n",
      "|3C66w5Z0ixs|I ASKED HER TO BE...|People & Blogs|\n",
      "|M9Pmf9AB4Mo|Apex Legends | St...|        Gaming|\n",
      "|J78aPJ3VyNs|I left youtube fo...| Entertainment|\n",
      "|kXLn3HkpjaA|XXL 2020 Freshman...|         Music|\n",
      "|VIUo6yapDbc|Ultimate DIY Home...| Howto & Style|\n",
      "+-----------+--------------------+--------------+\n",
      "only showing top 5 rows\n",
      "\n"
     ]
    }
   ],
   "source": [
    "# Perform the join\n",
    "df = df.join(category_df, on=\"categoryId\", how=\"left\")\n",
    "\n",
    "# Show some results to verify the join worked as expected\n",
    "df.select(\"video_id\", \"title\", \"categoryTitle\").show(5)\n"
   ]
  },
  {
   "cell_type": "code",
   "execution_count": 59,
   "metadata": {},
   "outputs": [],
   "source": [
    "category_counts = df.groupBy(\"categoryId\").count().orderBy(col(\"count\").desc()).toPandas()\n"
   ]
  },
  {
   "cell_type": "code",
   "execution_count": 60,
   "metadata": {},
   "outputs": [
    {
     "data": {
      "image/png": "[encoded data removed]",
      "text/plain": [
       "<Figure size 1000x1000 with 1 Axes>"
      ]
     },
     "metadata": {},
     "output_type": "display_data"
    }
   ],
   "source": [
    "\n",
    "import matplotlib.pyplot as plt\n",
    "\n",
    "plt.style.use('dark_background')\n",
    "\n",
    "# xaxis labels should be category titles\n",
    "category_titles = df.select(\"categoryId\", \"categoryTitle\").distinct().toPandas()\n",
    "category_titles = category_titles.set_index(\"categoryId\")\n",
    "\n",
    "category_counts[\"categoryTitle\"] = category_counts[\"categoryId\"].apply(lambda x: category_titles.loc[x][\"categoryTitle\"])\n",
    "\n",
    "plt.figure(figsize=(10, 10))\n",
    "plt.bar(category_counts[\"categoryTitle\"], category_counts[\"count\"])\n",
    "plt.xlabel(\"Category Title\")\n",
    "plt.ylabel(\"Count\")\n",
    "plt.title(\"Count of videos per category\")\n",
    "\n",
    "plt.xticks(rotation=90)\n",
    "plt.tight_layout()\n",
    "plt.show()"
   ]
  },
  {
   "cell_type": "markdown",
   "metadata": {},
   "source": [
    "## Categories"
   ]
  },
  {
   "cell_type": "code",
   "execution_count": 62,
   "metadata": {},
   "outputs": [
    {
     "data": {
      "text/html": [
       "<div>\n",
       "<style scoped>\n",
       "    .dataframe tbody tr th:only-of-type {\n",
       "        vertical-align: middle;\n",
       "    }\n",
       "\n",
       "    .dataframe tbody tr th {\n",
       "        vertical-align: top;\n",
       "    }\n",
       "\n",
       "    .dataframe thead th {\n",
       "        text-align: right;\n",
       "    }\n",
       "</style>\n",
       "<table border=\"1\" class=\"dataframe\">\n",
       "  <thead>\n",
       "    <tr style=\"text-align: right;\">\n",
       "      <th></th>\n",
       "      <th>categoryTitle</th>\n",
       "      <th>sum(view_count)</th>\n",
       "    </tr>\n",
       "  </thead>\n",
       "  <tbody>\n",
       "    <tr>\n",
       "      <th>0</th>\n",
       "      <td>Nonprofits &amp; Activism</td>\n",
       "      <td>279970874</td>\n",
       "    </tr>\n",
       "    <tr>\n",
       "      <th>1</th>\n",
       "      <td>Travel &amp; Events</td>\n",
       "      <td>1526953179</td>\n",
       "    </tr>\n",
       "    <tr>\n",
       "      <th>2</th>\n",
       "      <td>Pets &amp; Animals</td>\n",
       "      <td>1619939683</td>\n",
       "    </tr>\n",
       "    <tr>\n",
       "      <th>3</th>\n",
       "      <td>Autos &amp; Vehicles</td>\n",
       "      <td>5088025802</td>\n",
       "    </tr>\n",
       "    <tr>\n",
       "      <th>4</th>\n",
       "      <td>Howto &amp; Style</td>\n",
       "      <td>8517811953</td>\n",
       "    </tr>\n",
       "    <tr>\n",
       "      <th>5</th>\n",
       "      <td>Education</td>\n",
       "      <td>10548338428</td>\n",
       "    </tr>\n",
       "    <tr>\n",
       "      <th>6</th>\n",
       "      <td>News &amp; Politics</td>\n",
       "      <td>18448244824</td>\n",
       "    </tr>\n",
       "    <tr>\n",
       "      <th>7</th>\n",
       "      <td>Comedy</td>\n",
       "      <td>20497793736</td>\n",
       "    </tr>\n",
       "    <tr>\n",
       "      <th>8</th>\n",
       "      <td>Science &amp; Technology</td>\n",
       "      <td>22023719656</td>\n",
       "    </tr>\n",
       "    <tr>\n",
       "      <th>9</th>\n",
       "      <td>Film &amp; Animation</td>\n",
       "      <td>28788804964</td>\n",
       "    </tr>\n",
       "    <tr>\n",
       "      <th>10</th>\n",
       "      <td>People &amp; Blogs</td>\n",
       "      <td>36950647974</td>\n",
       "    </tr>\n",
       "    <tr>\n",
       "      <th>11</th>\n",
       "      <td>Sports</td>\n",
       "      <td>56495411396</td>\n",
       "    </tr>\n",
       "    <tr>\n",
       "      <th>12</th>\n",
       "      <td>Gaming</td>\n",
       "      <td>87459280319</td>\n",
       "    </tr>\n",
       "    <tr>\n",
       "      <th>13</th>\n",
       "      <td>Music</td>\n",
       "      <td>183977472060</td>\n",
       "    </tr>\n",
       "    <tr>\n",
       "      <th>14</th>\n",
       "      <td>Entertainment</td>\n",
       "      <td>219938181419</td>\n",
       "    </tr>\n",
       "  </tbody>\n",
       "</table>\n",
       "</div>"
      ],
      "text/plain": [
       "            categoryTitle  sum(view_count)\n",
       "0   Nonprofits & Activism        279970874\n",
       "1         Travel & Events       1526953179\n",
       "2          Pets & Animals       1619939683\n",
       "3        Autos & Vehicles       5088025802\n",
       "4           Howto & Style       8517811953\n",
       "5               Education      10548338428\n",
       "6         News & Politics      18448244824\n",
       "7                  Comedy      20497793736\n",
       "8    Science & Technology      22023719656\n",
       "9        Film & Animation      28788804964\n",
       "10         People & Blogs      36950647974\n",
       "11                 Sports      56495411396\n",
       "12                 Gaming      87459280319\n",
       "13                  Music     183977472060\n",
       "14          Entertainment     219938181419"
      ]
     },
     "execution_count": 62,
     "metadata": {},
     "output_type": "execute_result"
    }
   ],
   "source": [
    "categories_df = df.groupBy(\"categoryTitle\").sum(\"view_count\").orderBy(\"sum(view_count)\").toPandas()"
   ]
  },
  {
   "cell_type": "code",
   "execution_count": 86,
   "metadata": {},
   "outputs": [],
   "source": [
    "# Calculate the ratios needed\n",
    "calculated_df = df.withColumn(\"like_dislike_ratio\", col(\"likes\") / col(\"dislikes\")) \\\n",
    "       .withColumn(\"like_view_ratio\", col(\"likes\") / col(\"view_count\")) \\\n",
    "       .withColumn(\"comment_view_ratio\", col(\"comment_count\") / col(\"view_count\"))\n",
    "\n",
    "# Group by 'categoryId' and calculate the statistics\n",
    "result = calculated_df.groupBy(\"categoryTitle\").agg(\n",
    "    avg(\"likes\").alias(\"average_likes\"),\n",
    "    avg(\"dislikes\").alias(\"average_dislikes\"),\n",
    "    avg(\"comment_count\").alias(\"average_comment_count\"),\n",
    "    avg(\"view_count\").alias(\"average_view_count\"),\n",
    "    avg(\"like_dislike_ratio\").alias(\"average_like_dislike_ratio\"),\n",
    "    avg(\"like_view_ratio\").alias(\"average_like_view_ratio\"),\n",
    "    avg(\"comment_view_ratio\").alias(\"average_comment_view_ratio\"),\n",
    "    min(\"likes\").alias(\"minimum_likes\"),\n",
    "    min(\"dislikes\").alias(\"minimum_dislikes\"),\n",
    "    min(\"comment_count\").alias(\"minimum_comment_count\"),\n",
    "    min(\"view_count\").alias(\"minimum_view_count\"),\n",
    "    max(\"likes\").alias(\"maximum_likes\"),\n",
    "    max(\"dislikes\").alias(\"maximum_dislikes\"),\n",
    "    max(\"comment_count\").alias(\"maximum_comment_count\"),\n",
    "    max(\"view_count\").alias(\"maximum_view_count\")\n",
    ")"
   ]
  },
  {
   "cell_type": "markdown",
   "metadata": {},
   "source": [
    "#### Base statistics"
   ]
  },
  {
   "cell_type": "code",
   "execution_count": 99,
   "metadata": {},
   "outputs": [
    {
     "name": "stdout",
     "output_type": "stream",
     "text": [
      "+--------------------+------------------+------------------+---------------------+------------------+-------------+----------------+---------------------+------------------+-------------+----------------+---------------------+------------------+\n",
      "|       categoryTitle|     average_likes|  average_dislikes|average_comment_count|average_view_count|minimum_likes|minimum_dislikes|minimum_comment_count|minimum_view_count|maximum_likes|maximum_dislikes|maximum_comment_count|maximum_view_count|\n",
      "+--------------------+------------------+------------------+---------------------+------------------+-------------+----------------+---------------------+------------------+-------------+----------------+---------------------+------------------+\n",
      "|           Education| 89185.89312267659| 625.8500619578687|    5321.507125154894| 1633881.416976456|            0|               0|                    0|                 0|      7940311|          122608|                89133|         149615603|\n",
      "|              Gaming|  91036.6601341296| 742.0739065731238|    6822.541253551342|1690328.3724512476|            0|               0|                    0|             51622|     11192833|           99319|              1280276|         166323421|\n",
      "|       Entertainment| 183670.4394410827| 1193.987649607727|    9867.209765781587| 4198335.110218184|            0|               0|                    0|                 0|     10926910|          240769|               681063|         206202284|\n",
      "|     Travel & Events|  42847.0338573156|274.21765417170496|    2584.160822249093| 923188.1372430471|            0|               0|                    0|             97624|       986055|           43456|                21945|          22912715|\n",
      "|Science & Technology|106802.37577443419|1181.3274750284486|    5802.567201921861|2784640.2397268936|            0|               0|                    0|             38510|      3091571|           53076|               143008|          78835941|\n",
      "|              Sports| 43439.05439302924| 522.9069905604331|     3709.48395933725|1864658.1093141462|            0|               0|                    0|             44351|      7174425|          120961|               165530|         113116792|\n",
      "|       Howto & Style| 63186.99693564862|1060.4098934773092|    4628.057347147234|1242931.8478038816|            0|               0|                    0|                 0|      3550753|           97541|               235645|          89075984|\n",
      "|Nonprofits & Acti...|106977.88333333333|             941.4|    7394.558333333333|2333090.6166666667|            0|               0|                    0|            109309|       655398|            4333|                19474|           6045361|\n",
      "|    Film & Animation|103352.55421342971| 635.9751759558684|    7264.839357047746|2738140.0954917255|            0|               0|                    0|                 0|      5676872|           71292|               217691|          86415224|\n",
      "|      People & Blogs| 94144.23752042113| 1417.036031947722|    6274.238019604284|1676831.0026320566|            0|               0|                    0|                 0|      5627368|          224541|               322444|          97611742|\n",
      "|     News & Politics|25385.737457118354|1069.8319039451114|    5778.904373927959|1977727.7898799314|            0|               0|                    0|             47552|      1443032|           49219|               245752|          98202265|\n",
      "|      Pets & Animals| 48907.52688172043| 327.2588916459884|   3182.7129859387924|1339900.4822167081|            0|               0|                    0|             60309|       458926|            5442|                23962|           9094409|\n",
      "|    Autos & Vehicles|43904.718649820854| 265.6718838393362|    3425.661323778993| 959461.7767301528|            0|               0|                    0|             50335|      1368171|           18047|                80586|          35708883|\n",
      "|               Music| 274041.2858634519|2515.5517216830017|   28468.815016967656| 4365966.730582121|            0|               0|                    0|                 0|     16021534|          879354|              6738537|         277791741|\n",
      "|              Comedy|108806.09524922118| 870.2977414330218|    5658.444080996885|1596401.3813084112|            0|               0|                    0|             72607|      2983485|          110657|               138912|          87284105|\n",
      "+--------------------+------------------+------------------+---------------------+------------------+-------------+----------------+---------------------+------------------+-------------+----------------+---------------------+------------------+\n",
      "\n"
     ]
    }
   ],
   "source": [
    "from pyspark.sql import SparkSession\n",
    "from pyspark.sql.functions import col, avg, min, max\n",
    "\n",
    "# Assuming 'df' is your DataFrame and a Spark session 'spark' is already initialized\n",
    "\n",
    "# Group by 'categoryId' and calculate base statistics\n",
    "base_stats = df.groupBy(\"categoryTitle\").agg(\n",
    "    avg(\"likes\").alias(\"average_likes\"),\n",
    "    avg(\"dislikes\").alias(\"average_dislikes\"),\n",
    "    avg(\"comment_count\").alias(\"average_comment_count\"),\n",
    "    avg(\"view_count\").alias(\"average_view_count\"),\n",
    "    min(\"likes\").alias(\"minimum_likes\"),\n",
    "    min(\"dislikes\").alias(\"minimum_dislikes\"),\n",
    "    min(\"comment_count\").alias(\"minimum_comment_count\"),\n",
    "    min(\"view_count\").alias(\"minimum_view_count\"),\n",
    "    max(\"likes\").alias(\"maximum_likes\"),\n",
    "    max(\"dislikes\").alias(\"maximum_dislikes\"),\n",
    "    max(\"comment_count\").alias(\"maximum_comment_count\"),\n",
    "    max(\"view_count\").alias(\"maximum_view_count\")\n",
    ")\n",
    "\n",
    "base_stats.show()\n"
   ]
  },
  {
   "cell_type": "markdown",
   "metadata": {},
   "source": [
    "#### Ratios"
   ]
  },
  {
   "cell_type": "code",
   "execution_count": 98,
   "metadata": {},
   "outputs": [
    {
     "name": "stdout",
     "output_type": "stream",
     "text": [
      "+--------------------+--------------------------+-----------------------+--------------------------+--------------------------+-----------------------+--------------------------+--------------------------+-----------------------+--------------------------+\n",
      "|       categoryTitle|average_like_dislike_ratio|average_like_view_ratio|average_comment_view_ratio|minimum_like_dislike_ratio|minimum_like_view_ratio|minimum_comment_view_ratio|maximum_like_dislike_ratio|maximum_like_view_ratio|maximum_comment_view_ratio|\n",
      "+--------------------+--------------------------+-----------------------+--------------------------+--------------------------+-----------------------+--------------------------+--------------------------+-----------------------+--------------------------+\n",
      "|           Education|          107.153981095735|    0.05904387126508623|      0.004566668954540359|       0.11040878246117708|                    0.0|                       0.0|         849.9787234042553|     0.2366573683898154|       0.08388601135299402|\n",
      "|              Gaming|         81.45903175982237|    0.05253327215507134|      0.004064203913927...|        0.4038401514312468|                    0.0|                       0.0|         1558.063829787234|     0.3711927592313242|        0.1273043870926394|\n",
      "|       Entertainment|         84.68924159265417|   0.050739940506613866|      0.003703096306266995|        0.3120567375886525|                    0.0|                       0.0|        1591.2545454545455|     0.3908704408144999|       0.09602659962251536|\n",
      "|     Travel & Events|         69.91919622418567|    0.04948145025885698|      0.004039815733846077|         2.066371681415929|                    0.0|                       0.0|         451.2827868852459|     0.1780773321289646|       0.03295641797829422|\n",
      "|Science & Technology|         60.22265300075313|   0.045437956747228885|       0.00332945806316392|        0.4444444444444444|                    0.0|                       0.0|         712.0888324873097|    0.23377070941720063|       0.05915407680774997|\n",
      "|              Sports|         42.24878054946424|   0.020562120080705387|      0.002781742409459...|        0.5826115922718188|                    0.0|                       0.0|         539.4469696969697|    0.17564176915769886|       0.08077842222032035|\n",
      "|       Howto & Style|         81.98286986905376|     0.0583455242270047|      0.004784288100264061|       0.19078173981191224|                    0.0|                       0.0|         914.4411764705883|     0.2492344443910025|       0.06976576403251407|\n",
      "|Nonprofits & Acti...|        120.12689684179965|    0.06472499524904467|      0.006652434429801499|          6.71765322158198|                    0.0|                       0.0|        367.33898305084745|     0.2537227815499883|       0.04676890657925544|\n",
      "|    Film & Animation|         92.28094356039315|   0.057556546394138534|      0.004460058493903181|       0.24562363238512036|                    0.0|                       0.0|        1908.3636363636363|    0.37362285307466403|       0.11974299676653098|\n",
      "|      People & Blogs|          98.6362475239877|    0.06202860720771681|      0.004512726510777218|       0.13961215662685114|                    0.0|                       0.0|        1277.1744186046512|     0.3461176593381196|       0.10138151887121954|\n",
      "|     News & Politics|        17.131869204429755|   0.013404063548029881|      0.004597047980258761|        0.2855753196220122|                    0.0|                       0.0|        400.19826517967783|    0.18730178773500145|        0.0418368326600545|\n",
      "|      Pets & Animals|        108.39007132601876|   0.049685690153528764|      0.003708131444284145|         5.460059171597633|                    0.0|                       0.0|        429.87301587301585|    0.16352206987655446|       0.04644021751153705|\n",
      "|    Autos & Vehicles|         70.04634520057031|    0.04934008903542176|      0.004206645819779562|       0.34865552325581395|                    0.0|                       0.0|          720.932614555256|    0.27082476878243983|       0.05641694817551533|\n",
      "|               Music|        101.18859526673758|    0.07079717809642098|      0.005232904666079...|       0.23952782424692287|                    0.0|                       0.0|        1211.5762711864406|    0.43350277437514917|       0.43700599982131116|\n",
      "|              Comedy|         130.5892226822968|    0.07599573922404404|      0.004981746623803613|        1.8956633472534532|                    0.0|                       0.0|         872.0512820512821|     0.2780674315740803|       0.06684925778799916|\n",
      "+--------------------+--------------------------+-----------------------+--------------------------+--------------------------+-----------------------+--------------------------+--------------------------+-----------------------+--------------------------+\n",
      "\n"
     ]
    }
   ],
   "source": [
    "# Calculate the ratios needed\n",
    "df_with_ratios = df.withColumn(\"like_dislike_ratio\", col(\"likes\") / col(\"dislikes\")) \\\n",
    "                   .withColumn(\"like_view_ratio\", col(\"likes\") / col(\"view_count\")) \\\n",
    "                   .withColumn(\"comment_view_ratio\", col(\"comment_count\") / col(\"view_count\"))\n",
    "\n",
    "# Group by 'categoryId' and calculate statistics for ratios\n",
    "ratio_stats = df_with_ratios.groupBy(\"categoryTitle\").agg(\n",
    "    avg(\"like_dislike_ratio\").alias(\"average_like_dislike_ratio\"),\n",
    "    avg(\"like_view_ratio\").alias(\"average_like_view_ratio\"),\n",
    "    avg(\"comment_view_ratio\").alias(\"average_comment_view_ratio\"),\n",
    "    min(\"like_dislike_ratio\").alias(\"minimum_like_dislike_ratio\"),\n",
    "    min(\"like_view_ratio\").alias(\"minimum_like_view_ratio\"),\n",
    "    min(\"comment_view_ratio\").alias(\"minimum_comment_view_ratio\"),\n",
    "    max(\"like_dislike_ratio\").alias(\"maximum_like_dislike_ratio\"),\n",
    "    max(\"like_view_ratio\").alias(\"maximum_like_view_ratio\"),\n",
    "    max(\"comment_view_ratio\").alias(\"maximum_comment_view_ratio\")\n",
    ")\n",
    "\n",
    "ratio_stats.show()\n"
   ]
  },
  {
   "cell_type": "code",
   "execution_count": 100,
   "metadata": {},
   "outputs": [
    {
     "data": {
      "application/vnd.plotly.v1+json": {
       "config": {
        "plotlyServerURL": "https://plot.ly"
       },
       "data": [
        {
         "name": "average_likes",
         "type": "bar",
         "x": [
          "Education",
          "Gaming",
          "Entertainment",
          "Travel & Events",
          "Science & Technology",
          "Sports",
          "Howto & Style",
          "Nonprofits & Activism",
          "Film & Animation",
          "People & Blogs",
          "News & Politics",
          "Pets & Animals",
          "Autos & Vehicles",
          "Music",
          "Comedy"
         ],
         "y": [
          89185.89312267659,
          91036.6601341296,
          183670.4394410827,
          42847.0338573156,
          106802.37577443419,
          43439.05439302924,
          63186.99693564862,
          106977.88333333333,
          103352.55421342971,
          94144.23752042113,
          25385.737457118354,
          48907.52688172043,
          43904.718649820854,
          274041.2858634519,
          108806.09524922118
         ]
        },
        {
         "name": "average_dislikes",
         "type": "bar",
         "x": [
          "Education",
          "Gaming",
          "Entertainment",
          "Travel & Events",
          "Science & Technology",
          "Sports",
          "Howto & Style",
          "Nonprofits & Activism",
          "Film & Animation",
          "People & Blogs",
          "News & Politics",
          "Pets & Animals",
          "Autos & Vehicles",
          "Music",
          "Comedy"
         ],
         "y": [
          625.8500619578687,
          742.0739065731238,
          1193.987649607727,
          274.21765417170496,
          1181.3274750284486,
          522.9069905604331,
          1060.4098934773092,
          941.4,
          635.9751759558684,
          1417.036031947722,
          1069.8319039451114,
          327.2588916459884,
          265.6718838393362,
          2515.5517216830017,
          870.2977414330218
         ]
        },
        {
         "name": "average_comment_count",
         "type": "bar",
         "x": [
          "Education",
          "Gaming",
          "Entertainment",
          "Travel & Events",
          "Science & Technology",
          "Sports",
          "Howto & Style",
          "Nonprofits & Activism",
          "Film & Animation",
          "People & Blogs",
          "News & Politics",
          "Pets & Animals",
          "Autos & Vehicles",
          "Music",
          "Comedy"
         ],
         "y": [
          5321.507125154894,
          6822.541253551342,
          9867.209765781587,
          2584.160822249093,
          5802.567201921861,
          3709.48395933725,
          4628.057347147234,
          7394.558333333333,
          7264.839357047746,
          6274.238019604284,
          5778.904373927959,
          3182.7129859387924,
          3425.661323778993,
          28468.815016967656,
          5658.444080996885
         ]
        },
        {
         "name": "average_view_count",
         "type": "bar",
         "x": [
          "Education",
          "Gaming",
          "Entertainment",
          "Travel & Events",
          "Science & Technology",
          "Sports",
          "Howto & Style",
          "Nonprofits & Activism",
          "Film & Animation",
          "People & Blogs",
          "News & Politics",
          "Pets & Animals",
          "Autos & Vehicles",
          "Music",
          "Comedy"
         ],
         "y": [
          1633881.416976456,
          1690328.3724512476,
          4198335.110218184,
          923188.1372430471,
          2784640.2397268936,
          1864658.1093141462,
          1242931.8478038816,
          2333090.6166666667,
          2738140.0954917255,
          1676831.0026320566,
          1977727.7898799314,
          1339900.4822167081,
          959461.7767301528,
          4365966.730582121,
          1596401.3813084112
         ]
        },
        {
         "name": "average_like_dislike_ratio",
         "type": "bar",
         "x": [
          "Education",
          "Gaming",
          "Entertainment",
          "Travel & Events",
          "Science & Technology",
          "Sports",
          "Howto & Style",
          "Nonprofits & Activism",
          "Film & Animation",
          "People & Blogs",
          "News & Politics",
          "Pets & Animals",
          "Autos & Vehicles",
          "Music",
          "Comedy"
         ],
         "y": [
          107.153981095735,
          81.45903175982237,
          84.68924159265417,
          69.91919622418567,
          60.22265300075313,
          42.24878054946424,
          81.98286986905376,
          120.12689684179965,
          92.28094356039315,
          98.6362475239877,
          17.131869204429755,
          108.39007132601876,
          70.04634520057031,
          101.18859526673758,
          130.5892226822968
         ]
        },
        {
         "name": "average_like_view_ratio",
         "type": "bar",
         "x": [
          "Education",
          "Gaming",
          "Entertainment",
          "Travel & Events",
          "Science & Technology",
          "Sports",
          "Howto & Style",
          "Nonprofits & Activism",
          "Film & Animation",
          "People & Blogs",
          "News & Politics",
          "Pets & Animals",
          "Autos & Vehicles",
          "Music",
          "Comedy"
         ],
         "y": [
          0.05904387126508623,
          0.05253327215507134,
          0.050739940506613866,
          0.04948145025885698,
          0.045437956747228885,
          0.020562120080705387,
          0.0583455242270047,
          0.06472499524904467,
          0.057556546394138534,
          0.06202860720771681,
          0.013404063548029881,
          0.049685690153528764,
          0.04934008903542176,
          0.07079717809642098,
          0.07599573922404404
         ]
        },
        {
         "name": "average_comment_view_ratio",
         "type": "bar",
         "x": [
          "Education",
          "Gaming",
          "Entertainment",
          "Travel & Events",
          "Science & Technology",
          "Sports",
          "Howto & Style",
          "Nonprofits & Activism",
          "Film & Animation",
          "People & Blogs",
          "News & Politics",
          "Pets & Animals",
          "Autos & Vehicles",
          "Music",
          "Comedy"
         ],
         "y": [
          0.004566668954540359,
          0.0040642039139275835,
          0.003703096306266995,
          0.004039815733846077,
          0.00332945806316392,
          0.0027817424094590984,
          0.004784288100264061,
          0.006652434429801499,
          0.004460058493903181,
          0.004512726510777218,
          0.004597047980258761,
          0.003708131444284145,
          0.004206645819779562,
          0.0052329046660792855,
          0.004981746623803613
         ]
        }
       ],
       "layout": {
        "autosize": false,
        "barmode": "group",
        "font": {
         "color": "RebeccaPurple",
         "family": "Courier New, monospace",
         "size": 18
        },
        "height": 800,
        "template": {
         "data": {
          "bar": [
           {
            "error_x": {
             "color": "#2a3f5f"
            },
            "error_y": {
             "color": "#2a3f5f"
            },
            "marker": {
             "line": {
              "color": "#E5ECF6",
              "width": 0.5
             },
             "pattern": {
              "fillmode": "overlay",
              "size": 10,
              "solidity": 0.2
             }
            },
            "type": "bar"
           }
          ],
          "barpolar": [
           {
            "marker": {
             "line": {
              "color": "#E5ECF6",
              "width": 0.5
             },
             "pattern": {
              "fillmode": "overlay",
              "size": 10,
              "solidity": 0.2
             }
            },
            "type": "barpolar"
           }
          ],
          "carpet": [
           {
            "aaxis": {
             "endlinecolor": "#2a3f5f",
             "gridcolor": "white",
             "linecolor": "white",
             "minorgridcolor": "white",
             "startlinecolor": "#2a3f5f"
            },
            "baxis": {
             "endlinecolor": "#2a3f5f",
             "gridcolor": "white",
             "linecolor": "white",
             "minorgridcolor": "white",
             "startlinecolor": "#2a3f5f"
            },
            "type": "carpet"
           }
          ],
          "choropleth": [
           {
            "colorbar": {
             "outlinewidth": 0,
             "ticks": ""
            },
            "type": "choropleth"
           }
          ],
          "contour": [
           {
            "colorbar": {
             "outlinewidth": 0,
             "ticks": ""
            },
            "colorscale": [
             [
              0,
              "#0d0887"
             ],
             [
              0.1111111111111111,
              "#46039f"
             ],
             [
              0.2222222222222222,
              "#7201a8"
             ],
             [
              0.3333333333333333,
              "#9c179e"
             ],
             [
              0.4444444444444444,
              "#bd3786"
             ],
             [
              0.5555555555555556,
              "#d8576b"
             ],
             [
              0.6666666666666666,
              "#ed7953"
             ],
             [
              0.7777777777777778,
              "#fb9f3a"
             ],
             [
              0.8888888888888888,
              "#fdca26"
             ],
             [
              1,
              "#f0f921"
             ]
            ],
            "type": "contour"
           }
          ],
          "contourcarpet": [
           {
            "colorbar": {
             "outlinewidth": 0,
             "ticks": ""
            },
            "type": "contourcarpet"
           }
          ],
          "heatmap": [
           {
            "colorbar": {
             "outlinewidth": 0,
             "ticks": ""
            },
            "colorscale": [
             [
              0,
              "#0d0887"
             ],
             [
              0.1111111111111111,
              "#46039f"
             ],
             [
              0.2222222222222222,
              "#7201a8"
             ],
             [
              0.3333333333333333,
              "#9c179e"
             ],
             [
              0.4444444444444444,
              "#bd3786"
             ],
             [
              0.5555555555555556,
              "#d8576b"
             ],
             [
              0.6666666666666666,
              "#ed7953"
             ],
             [
              0.7777777777777778,
              "#fb9f3a"
             ],
             [
              0.8888888888888888,
              "#fdca26"
             ],
             [
              1,
              "#f0f921"
             ]
            ],
            "type": "heatmap"
           }
          ],
          "heatmapgl": [
           {
            "colorbar": {
             "outlinewidth": 0,
             "ticks": ""
            },
            "colorscale": [
             [
              0,
              "#0d0887"
             ],
             [
              0.1111111111111111,
              "#46039f"
             ],
             [
              0.2222222222222222,
              "#7201a8"
             ],
             [
              0.3333333333333333,
              "#9c179e"
             ],
             [
              0.4444444444444444,
              "#bd3786"
             ],
             [
              0.5555555555555556,
              "#d8576b"
             ],
             [
              0.6666666666666666,
              "#ed7953"
             ],
             [
              0.7777777777777778,
              "#fb9f3a"
             ],
             [
              0.8888888888888888,
              "#fdca26"
             ],
             [
              1,
              "#f0f921"
             ]
            ],
            "type": "heatmapgl"
           }
          ],
          "histogram": [
           {
            "marker": {
             "pattern": {
              "fillmode": "overlay",
              "size": 10,
              "solidity": 0.2
             }
            },
            "type": "histogram"
           }
          ],
          "histogram2d": [
           {
            "colorbar": {
             "outlinewidth": 0,
             "ticks": ""
            },
            "colorscale": [
             [
              0,
              "#0d0887"
             ],
             [
              0.1111111111111111,
              "#46039f"
             ],
             [
              0.2222222222222222,
              "#7201a8"
             ],
             [
              0.3333333333333333,
              "#9c179e"
             ],
             [
              0.4444444444444444,
              "#bd3786"
             ],
             [
              0.5555555555555556,
              "#d8576b"
             ],
             [
              0.6666666666666666,
              "#ed7953"
             ],
             [
              0.7777777777777778,
              "#fb9f3a"
             ],
             [
              0.8888888888888888,
              "#fdca26"
             ],
             [
              1,
              "#f0f921"
             ]
            ],
            "type": "histogram2d"
           }
          ],
          "histogram2dcontour": [
           {
            "colorbar": {
             "outlinewidth": 0,
             "ticks": ""
            },
            "colorscale": [
             [
              0,
              "#0d0887"
             ],
             [
              0.1111111111111111,
              "#46039f"
             ],
             [
              0.2222222222222222,
              "#7201a8"
             ],
             [
              0.3333333333333333,
              "#9c179e"
             ],
             [
              0.4444444444444444,
              "#bd3786"
             ],
             [
              0.5555555555555556,
              "#d8576b"
             ],
             [
              0.6666666666666666,
              "#ed7953"
             ],
             [
              0.7777777777777778,
              "#fb9f3a"
             ],
             [
              0.8888888888888888,
              "#fdca26"
             ],
             [
              1,
              "#f0f921"
             ]
            ],
            "type": "histogram2dcontour"
           }
          ],
          "mesh3d": [
           {
            "colorbar": {
             "outlinewidth": 0,
             "ticks": ""
            },
            "type": "mesh3d"
           }
          ],
          "parcoords": [
           {
            "line": {
             "colorbar": {
              "outlinewidth": 0,
              "ticks": ""
             }
            },
            "type": "parcoords"
           }
          ],
          "pie": [
           {
            "automargin": true,
            "type": "pie"
           }
          ],
          "scatter": [
           {
            "fillpattern": {
             "fillmode": "overlay",
             "size": 10,
             "solidity": 0.2
            },
            "type": "scatter"
           }
          ],
          "scatter3d": [
           {
            "line": {
             "colorbar": {
              "outlinewidth": 0,
              "ticks": ""
             }
            },
            "marker": {
             "colorbar": {
              "outlinewidth": 0,
              "ticks": ""
             }
            },
            "type": "scatter3d"
           }
          ],
          "scattercarpet": [
           {
            "marker": {
             "colorbar": {
              "outlinewidth": 0,
              "ticks": ""
             }
            },
            "type": "scattercarpet"
           }
          ],
          "scattergeo": [
           {
            "marker": {
             "colorbar": {
              "outlinewidth": 0,
              "ticks": ""
             }
            },
            "type": "scattergeo"
           }
          ],
          "scattergl": [
           {
            "marker": {
             "colorbar": {
              "outlinewidth": 0,
              "ticks": ""
             }
            },
            "type": "scattergl"
           }
          ],
          "scattermapbox": [
           {
            "marker": {
             "colorbar": {
              "outlinewidth": 0,
              "ticks": ""
             }
            },
            "type": "scattermapbox"
           }
          ],
          "scatterpolar": [
           {
            "marker": {
             "colorbar": {
              "outlinewidth": 0,
              "ticks": ""
             }
            },
            "type": "scatterpolar"
           }
          ],
          "scatterpolargl": [
           {
            "marker": {
             "colorbar": {
              "outlinewidth": 0,
              "ticks": ""
             }
            },
            "type": "scatterpolargl"
           }
          ],
          "scatterternary": [
           {
            "marker": {
             "colorbar": {
              "outlinewidth": 0,
              "ticks": ""
             }
            },
            "type": "scatterternary"
           }
          ],
          "surface": [
           {
            "colorbar": {
             "outlinewidth": 0,
             "ticks": ""
            },
            "colorscale": [
             [
              0,
              "#0d0887"
             ],
             [
              0.1111111111111111,
              "#46039f"
             ],
             [
              0.2222222222222222,
              "#7201a8"
             ],
             [
              0.3333333333333333,
              "#9c179e"
             ],
             [
              0.4444444444444444,
              "#bd3786"
             ],
             [
              0.5555555555555556,
              "#d8576b"
             ],
             [
              0.6666666666666666,
              "#ed7953"
             ],
             [
              0.7777777777777778,
              "#fb9f3a"
             ],
             [
              0.8888888888888888,
              "#fdca26"
             ],
             [
              1,
              "#f0f921"
             ]
            ],
            "type": "surface"
           }
          ],
          "table": [
           {
            "cells": {
             "fill": {
              "color": "#EBF0F8"
             },
             "line": {
              "color": "white"
             }
            },
            "header": {
             "fill": {
              "color": "#C8D4E3"
             },
             "line": {
              "color": "white"
             }
            },
            "type": "table"
           }
          ]
         },
         "layout": {
          "annotationdefaults": {
           "arrowcolor": "#2a3f5f",
           "arrowhead": 0,
           "arrowwidth": 1
          },
          "autotypenumbers": "strict",
          "coloraxis": {
           "colorbar": {
            "outlinewidth": 0,
            "ticks": ""
           }
          },
          "colorscale": {
           "diverging": [
            [
             0,
             "#8e0152"
            ],
            [
             0.1,
             "#c51b7d"
            ],
            [
             0.2,
             "#de77ae"
            ],
            [
             0.3,
             "#f1b6da"
            ],
            [
             0.4,
             "#fde0ef"
            ],
            [
             0.5,
             "#f7f7f7"
            ],
            [
             0.6,
             "#e6f5d0"
            ],
            [
             0.7,
             "#b8e186"
            ],
            [
             0.8,
             "#7fbc41"
            ],
            [
             0.9,
             "#4d9221"
            ],
            [
             1,
             "#276419"
            ]
           ],
           "sequential": [
            [
             0,
             "#0d0887"
            ],
            [
             0.1111111111111111,
             "#46039f"
            ],
            [
             0.2222222222222222,
             "#7201a8"
            ],
            [
             0.3333333333333333,
             "#9c179e"
            ],
            [
             0.4444444444444444,
             "#bd3786"
            ],
            [
             0.5555555555555556,
             "#d8576b"
            ],
            [
             0.6666666666666666,
             "#ed7953"
            ],
            [
             0.7777777777777778,
             "#fb9f3a"
            ],
            [
             0.8888888888888888,
             "#fdca26"
            ],
            [
             1,
             "#f0f921"
            ]
           ],
           "sequentialminus": [
            [
             0,
             "#0d0887"
            ],
            [
             0.1111111111111111,
             "#46039f"
            ],
            [
             0.2222222222222222,
             "#7201a8"
            ],
            [
             0.3333333333333333,
             "#9c179e"
            ],
            [
             0.4444444444444444,
             "#bd3786"
            ],
            [
             0.5555555555555556,
             "#d8576b"
            ],
            [
             0.6666666666666666,
             "#ed7953"
            ],
            [
             0.7777777777777778,
             "#fb9f3a"
            ],
            [
             0.8888888888888888,
             "#fdca26"
            ],
            [
             1,
             "#f0f921"
            ]
           ]
          },
          "colorway": [
           "#636efa",
           "#EF553B",
           "#00cc96",
           "#ab63fa",
           "#FFA15A",
           "#19d3f3",
           "#FF6692",
           "#B6E880",
           "#FF97FF",
           "#FECB52"
          ],
          "font": {
           "color": "#2a3f5f"
          },
          "geo": {
           "bgcolor": "white",
           "lakecolor": "white",
           "landcolor": "#E5ECF6",
           "showlakes": true,
           "showland": true,
           "subunitcolor": "white"
          },
          "hoverlabel": {
           "align": "left"
          },
          "hovermode": "closest",
          "mapbox": {
           "style": "light"
          },
          "paper_bgcolor": "white",
          "plot_bgcolor": "#E5ECF6",
          "polar": {
           "angularaxis": {
            "gridcolor": "white",
            "linecolor": "white",
            "ticks": ""
           },
           "bgcolor": "#E5ECF6",
           "radialaxis": {
            "gridcolor": "white",
            "linecolor": "white",
            "ticks": ""
           }
          },
          "scene": {
           "xaxis": {
            "backgroundcolor": "#E5ECF6",
            "gridcolor": "white",
            "gridwidth": 2,
            "linecolor": "white",
            "showbackground": true,
            "ticks": "",
            "zerolinecolor": "white"
           },
           "yaxis": {
            "backgroundcolor": "#E5ECF6",
            "gridcolor": "white",
            "gridwidth": 2,
            "linecolor": "white",
            "showbackground": true,
            "ticks": "",
            "zerolinecolor": "white"
           },
           "zaxis": {
            "backgroundcolor": "#E5ECF6",
            "gridcolor": "white",
            "gridwidth": 2,
            "linecolor": "white",
            "showbackground": true,
            "ticks": "",
            "zerolinecolor": "white"
           }
          },
          "shapedefaults": {
           "line": {
            "color": "#2a3f5f"
           }
          },
          "ternary": {
           "aaxis": {
            "gridcolor": "white",
            "linecolor": "white",
            "ticks": ""
           },
           "baxis": {
            "gridcolor": "white",
            "linecolor": "white",
            "ticks": ""
           },
           "bgcolor": "#E5ECF6",
           "caxis": {
            "gridcolor": "white",
            "linecolor": "white",
            "ticks": ""
           }
          },
          "title": {
           "x": 0.05
          },
          "xaxis": {
           "automargin": true,
           "gridcolor": "white",
           "linecolor": "white",
           "ticks": "",
           "title": {
            "standoff": 15
           },
           "zerolinecolor": "white",
           "zerolinewidth": 2
          },
          "yaxis": {
           "automargin": true,
           "gridcolor": "white",
           "linecolor": "white",
           "ticks": "",
           "title": {
            "standoff": 15
           },
           "zerolinecolor": "white",
           "zerolinewidth": 2
          }
         }
        },
        "title": {
         "text": "Average metrics per category"
        },
        "width": 1200,
        "xaxis": {
         "title": {
          "text": "Category"
         }
        },
        "yaxis": {
         "title": {
          "text": "Average value"
         }
        }
       }
      }
     },
     "metadata": {},
     "output_type": "display_data"
    }
   ],
   "source": [
    "# graph the results on bar chart\n",
    "import plotly.graph_objects as go\n",
    "\n",
    "fig = go.Figure()\n",
    "\n",
    "# Create a list of the columns to plot\n",
    "columns = [\n",
    "    \"average_likes\",\n",
    "    \"average_dislikes\",\n",
    "    \"average_comment_count\",\n",
    "    \"average_view_count\",\n",
    "    \"average_like_dislike_ratio\",\n",
    "    \"average_like_view_ratio\",\n",
    "    \"average_comment_view_ratio\"\n",
    "]\n",
    "\n",
    "# Create the bar chart\n",
    "for column in columns:\n",
    "    fig.add_trace(go.Bar(\n",
    "        x=result.select(\"categoryTitle\").toPandas()[\"categoryTitle\"],\n",
    "        y=result.select(column).toPandas()[column],\n",
    "        name=column\n",
    "    ))\n",
    "\n",
    "# Update the layout\n",
    "fig.update_layout(\n",
    "    barmode='group',\n",
    "    title=\"Average metrics per category\",\n",
    "    xaxis_title=\"Category\",\n",
    "    yaxis_title=\"Average value\",\n",
    "    font=dict(\n",
    "        family=\"Courier New, monospace\",\n",
    "        size=18,\n",
    "        color=\"RebeccaPurple\"\n",
    "    )\n",
    ")\n",
    "\n",
    "# change height to 1200px\n",
    "fig.update_layout(\n",
    "    autosize=False,\n",
    "    width=1200,\n",
    "    height=800\n",
    ")\n",
    "\n",
    "fig.show()"
   ]
  },
  {
   "cell_type": "markdown",
   "metadata": {},
   "source": [
    "## Distribution"
   ]
  },
  {
   "cell_type": "code",
   "execution_count": null,
   "metadata": {},
   "outputs": [
    {
     "name": "stdout",
     "output_type": "stream",
     "text": [
      "+-------+-----------------+------------------+-----------------+------------------+\n",
      "|summary|       view_count|             likes|         dislikes|     comment_count|\n",
      "+-------+-----------------+------------------+-----------------+------------------+\n",
      "|  count|           260787|            260787|           260787|            260787|\n",
      "|   mean|2692467.785077477| 131219.9604351444|1169.073017443354|10208.705188525502|\n",
      "| stddev|8729430.316258574|452251.69212524034|8167.300333295418| 73606.70150388633|\n",
      "|    min|                0|                 0|                0|                 0|\n",
      "|    max|        277791741|          16021534|           879354|           6738537|\n",
      "+-------+-----------------+------------------+-----------------+------------------+\n",
      "\n"
     ]
    }
   ],
   "source": [
    "# For numerical columns\n",
    "numerical_cols = ['view_count', 'likes', 'dislikes', 'comment_count']\n",
    "df.select(numerical_cols).describe().show()"
   ]
  },
  {
   "cell_type": "code",
   "execution_count": null,
   "metadata": {},
   "outputs": [
    {
     "name": "stderr",
     "output_type": "stream",
     "text": [
      "                                                                                \r"
     ]
    },
    {
     "data": {
      "image/png": "[encoded data removed]",
      "text/plain": [
       "<Figure size 1000x600 with 1 Axes>"
      ]
     },
     "metadata": {},
     "output_type": "display_data"
    },
    {
     "data": {
      "image/png": "[encoded data removed]",
      "text/plain": [
       "<Figure size 1000x600 with 1 Axes>"
      ]
     },
     "metadata": {},
     "output_type": "display_data"
    },
    {
     "data": {
      "image/png": "[encoded data removed]",
      "text/plain": [
       "<Figure size 1000x600 with 1 Axes>"
      ]
     },
     "metadata": {},
     "output_type": "display_data"
    },
    {
     "data": {
      "image/png": "[encoded data removed]",
      "text/plain": [
       "<Figure size 1000x600 with 1 Axes>"
      ]
     },
     "metadata": {},
     "output_type": "display_data"
    }
   ],
   "source": [
    "import matplotlib.pyplot as plt\n",
    "\n",
    "def plot_histograms(df, columns, bins=50):\n",
    "    \"\"\"\n",
    "    Plots histograms for the specified continuous variables in a Spark DataFrame.\n",
    "    \n",
    "    Parameters:\n",
    "    - df: Spark DataFrame containing the data.\n",
    "    - columns: List of column names (strings) for which to plot histograms.\n",
    "    - bins: Number of bins to use in the histograms (default is 50).\n",
    "    \"\"\"\n",
    "    for column in columns:\n",
    "        # Aggregate data in Spark\n",
    "        data = df.select(column).rdd.flatMap(lambda x: x).collect()\n",
    "        \n",
    "        # Plot using Matplotlib in Python\n",
    "        plt.figure(figsize=(10, 6))\n",
    "        plt.hist(data, bins=bins, color='skyblue', edgecolor='black')\n",
    "        plt.title(f'{column.capitalize()} Distribution')\n",
    "        plt.xlabel(column.capitalize())\n",
    "        plt.ylabel('Frequency')\n",
    "        plt.show()\n",
    "\n",
    "# Example usage with your DataFrame and continuous variables\n",
    "continuous_vars = ['view_count', 'likes', 'dislikes', 'comment_count']\n",
    "plot_histograms(df, continuous_vars)\n"
   ]
  },
  {
   "cell_type": "markdown",
   "metadata": {},
   "source": [
    "above plots show that all continuous variables are heaviliy right-tail skewed, therefore log transformation might be beneficial"
   ]
  },
  {
   "cell_type": "markdown",
   "metadata": {},
   "source": [
    "## Transformations"
   ]
  },
  {
   "cell_type": "code",
   "execution_count": null,
   "metadata": {},
   "outputs": [],
   "source": [
    "from pyspark.sql.functions import log1p\n",
    "\n",
    "# Apply log transformation to each specified column\n",
    "for column in continuous_vars:\n",
    "    # Add a new column with the log transformation applied\n",
    "    df = df.withColumn(column + '_log', log1p(col(column)))"
   ]
  },
  {
   "cell_type": "code",
   "execution_count": null,
   "metadata": {},
   "outputs": [
    {
     "name": "stderr",
     "output_type": "stream",
     "text": [
      "                                                                                \r"
     ]
    },
    {
     "data": {
      "image/png": "[encoded data removed]",
      "text/plain": [
       "<Figure size 1000x600 with 1 Axes>"
      ]
     },
     "metadata": {},
     "output_type": "display_data"
    },
    {
     "data": {
      "image/png": "[encoded data removed]",
      "text/plain": [
       "<Figure size 1000x600 with 1 Axes>"
      ]
     },
     "metadata": {},
     "output_type": "display_data"
    },
    {
     "data": {
      "image/png": "[encoded data removed]",
      "text/plain": [
       "<Figure size 1000x600 with 1 Axes>"
      ]
     },
     "metadata": {},
     "output_type": "display_data"
    },
    {
     "data": {
      "image/png": "[encoded data removed]",
      "text/plain": [
       "<Figure size 1000x600 with 1 Axes>"
      ]
     },
     "metadata": {},
     "output_type": "display_data"
    }
   ],
   "source": [
    "# Replot histograms for the log-transformed variables\n",
    "plot_histograms(df, continuous_vars)\n"
   ]
  },
  {
   "cell_type": "markdown",
   "metadata": {},
   "source": [
    "### Categorical Variables"
   ]
  },
  {
   "cell_type": "markdown",
   "metadata": {},
   "source": [
    "#### Aggregate Category Popularity"
   ]
  },
  {
   "cell_type": "code",
   "execution_count": null,
   "metadata": {},
   "outputs": [],
   "source": [
    "# For a categorical column like \n",
    "category_popularity = df.groupBy(\"categoryTitle\").count().orderBy(\"count\", ascending=False).toPandas()"
   ]
  },
  {
   "cell_type": "code",
   "execution_count": null,
   "metadata": {},
   "outputs": [
    {
     "data": {
      "image/png": "[encoded data removed]",
      "text/plain": [
       "<Figure size 1000x800 with 1 Axes>"
      ]
     },
     "metadata": {},
     "output_type": "display_data"
    }
   ],
   "source": [
    "import matplotlib.pyplot as plt\n",
    "\n",
    "plt.figure(figsize=(10, 8))\n",
    "plt.barh(category_popularity['categoryTitle'], category_popularity['count'], color='skyblue')\n",
    "plt.xlabel('Number of Videos')\n",
    "plt.ylabel('Categories')\n",
    "plt.title('Popularity of YouTube Video Categories')\n",
    "plt.gca().invert_yaxis()  # Invert y-axis to have the most popular category at the top\n",
    "\n",
    "# use skin \n",
    "plt.style.use('dark_background')\n",
    "\n",
    "\n",
    "plt.show()\n"
   ]
  },
  {
   "cell_type": "markdown",
   "metadata": {},
   "source": [
    "#### tag freq"
   ]
  },
  {
   "cell_type": "code",
   "execution_count": null,
   "metadata": {},
   "outputs": [
    {
     "name": "stderr",
     "output_type": "stream",
     "text": [
      "                                                                                \r"
     ]
    }
   ],
   "source": [
    "from pyspark.sql.functions import explode, split\n",
    "\n",
    "# Split the tags string into an array of tags, then explode the array into individual rows\n",
    "tags_df = df.withColumn(\"tag\", explode(split(\"tags\", \"\\|\")))\n",
    "\n",
    "# Group by the individual tags and count occurrences\n",
    "tag_counts = tags_df.groupBy(\"tag\").count().orderBy(\"count\", ascending=False).limit(20).toPandas()"
   ]
  },
  {
   "cell_type": "code",
   "execution_count": null,
   "metadata": {},
   "outputs": [
    {
     "data": {
      "image/png": "[encoded data removed]",
      "text/plain": [
       "<Figure size 1000x800 with 1 Axes>"
      ]
     },
     "metadata": {},
     "output_type": "display_data"
    }
   ],
   "source": [
    "plt.figure(figsize=(10, 8))\n",
    "plt.barh(tag_counts['tag'], tag_counts['count'], color='lightgreen')\n",
    "plt.xlabel('Frequency')\n",
    "plt.ylabel('Tags')\n",
    "plt.title('Top 20 Most Frequent Tags in YouTube Trending Videos')\n",
    "plt.gca().invert_yaxis()  # Invert y-axis to have the most frequent tag at the top\n",
    "plt.show()\n"
   ]
  },
  {
   "cell_type": "markdown",
   "metadata": {},
   "source": [
    "## save transformed data"
   ]
  },
  {
   "cell_type": "code",
   "execution_count": null,
   "metadata": {},
   "outputs": [
    {
     "name": "stderr",
     "output_type": "stream",
     "text": [
      "                                                                                \r"
     ]
    }
   ],
   "source": [
    "# save parquet file\n",
    "df.write.parquet(\"data/processed/tranformed_US_youtube_trending_data.parquet\", mode=\"overwrite\")"
   ]
  },
  {
   "cell_type": "code",
   "execution_count": null,
   "metadata": {},
   "outputs": [
    {
     "name": "stdout",
     "output_type": "stream",
     "text": [
      "root\n",
      " |-- categoryId: string (nullable = true)\n",
      " |-- video_id: string (nullable = true)\n",
      " |-- title: string (nullable = true)\n",
      " |-- publishedAt: string (nullable = true)\n",
      " |-- channelId: string (nullable = true)\n",
      " |-- channelTitle: string (nullable = true)\n",
      " |-- trending_date: string (nullable = true)\n",
      " |-- tags: string (nullable = true)\n",
      " |-- view_count: double (nullable = true)\n",
      " |-- likes: double (nullable = true)\n",
      " |-- dislikes: double (nullable = true)\n",
      " |-- comment_count: double (nullable = true)\n",
      " |-- thumbnail_link: string (nullable = true)\n",
      " |-- comments_disabled: boolean (nullable = true)\n",
      " |-- ratings_disabled: boolean (nullable = true)\n",
      " |-- description: string (nullable = true)\n",
      " |-- categoryTitle: string (nullable = true)\n",
      "\n"
     ]
    }
   ],
   "source": [
    "# df_with_categories to pandas\n",
    "# df_with_categories = df_with_categories.toPandas()\n",
    "df.head(5)\n",
    "\n",
    "df.printSchema()"
   ]
  }
 ],
 "metadata": {
  "kernelspec": {
   "display_name": "base",
   "language": "python",
   "name": "python3"
  },
  "language_info": {
   "codemirror_mode": {
    "name": "ipython",
    "version": 3
   },
   "file_extension": ".py",
   "mimetype": "text/x-python",
   "name": "python",
   "nbconvert_exporter": "python",
   "pygments_lexer": "ipython3",
   "version": "3.11.5"
  }
 },
 "nbformat": 4,
 "nbformat_minor": 2
}
