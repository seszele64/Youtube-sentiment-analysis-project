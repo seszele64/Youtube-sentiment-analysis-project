{
 "cells": [
  {
   "cell_type": "code",
   "execution_count": 3,
   "metadata": {},
   "outputs": [
    {
     "name": "stdout",
     "output_type": "stream",
     "text": [
      "+----------+-----------+--------------------+--------------------+--------------------+--------------------+--------------------+--------------------+------------------+------------------+-----------------+------------------+--------------------+-----------------+----------------+--------------------+--------------+\n",
      "|categoryId|   video_id|               title|         publishedAt|           channelId|        channelTitle|       trending_date|                tags|        view_count|             likes|         dislikes|     comment_count|      thumbnail_link|comments_disabled|ratings_disabled|         description| categoryTitle|\n",
      "+----------+-----------+--------------------+--------------------+--------------------+--------------------+--------------------+--------------------+------------------+------------------+-----------------+------------------+--------------------+-----------------+----------------+--------------------+--------------+\n",
      "|        22|3C66w5Z0ixs|I ASKED HER TO BE...|2020-08-11T19:20:14Z|UCvtRTOMP2TqYqu51...|            Brawadis|2020-08-12T00:00:00Z|brawadis|prank|ba...|14.230671839217731|11.963421298452696|8.675222055641148|10.472034764862743|https://i.ytimg.c...|            False|           False|SUBSCRIBE to BRAW...|People & Blogs|\n",
      "|        20|M9Pmf9AB4Mo|Apex Legends | St...|2020-08-11T17:00:10Z|UC0ZV6M2THA81QT9h...|        Apex Legends|2020-08-12T00:00:00Z|Apex Legends|Apex...|14.683320457820873|11.896417592267985|  7.9355873855892|  9.71414138080521|https://i.ytimg.c...|            False|           False|While running her...|        Gaming|\n",
      "|        24|J78aPJ3VyNs|I left youtube fo...|2020-08-11T16:34:06Z|UCYzPXprvl5Y-Sf0g...|       jacksepticeye|2020-08-12T00:00:00Z|jacksepticeye|fun...|14.527898443265606|12.776453142665115|7.874358824729881|10.602169388594548|https://i.ytimg.c...|            False|           False|I left youtube fo...| Entertainment|\n",
      "|        10|kXLn3HkpjaA|XXL 2020 Freshman...|2020-08-11T16:38:55Z|UCbg_UMjlHJg_19SZ...|                 XXL|2020-08-12T00:00:00Z|xxl freshman|xxl ...|13.115886447304547|10.054146428821241|7.526717561352706| 8.942199454731238|https://i.ytimg.c...|            False|           False|Subscribe to XXL ...|         Music|\n",
      "|        26|VIUo6yapDbc|Ultimate DIY Home...|2020-08-11T15:10:05Z|UCDVPcEbVLQgLZX0R...|            Mr. Kate|2020-08-12T00:00:00Z|The LaBrant Famil...| 13.93230643987802|10.732104870140509|6.872128101338986|  7.69484807238461|https://i.ytimg.c...|            False|           False|Transforming The ...| Howto & Style|\n",
      "|        24|w-aidBdvZo8|I Haven't Been Ho...|2020-08-11T20:00:04Z|UC5zJwsFtEs9WYe3A...|      Professor Live|2020-08-12T00:00:00Z|Professor injury|...|13.763682383711885| 11.25787836464301|6.616065185132817| 8.923591197573002|https://i.ytimg.c...|            False|           False|Subscribe To My C...| Entertainment|\n",
      "|        26|uet14uf9NsE|OUR FIRST FAMILY ...|2020-08-12T00:17:41Z|UCDSJCBYqL7VQrlXf...|       Les Do Makeup|2020-08-12T00:00:00Z|              [None]|13.061438585541373|10.778768772309705|6.089044875446846| 8.424858580213442|https://i.ytimg.c...|            False|           False|Hi babygirls!  Th...| Howto & Style|\n",
      "|        27|ua4QMFQATco|  CGP Grey was WRONG|2020-08-11T17:15:11Z|UC2C_jShtL725hvbm...|            CGP Grey|2020-08-12T00:00:00Z|cgpgrey|education...|13.864437855587626|11.398535416616683| 6.75110146893676| 8.772765209949785|https://i.ytimg.c...|            False|           False|‣ What Was TEKOI:...|     Education|\n",
      "|        24|SnsPZj91R7E|SURPRISING MY DAD...|2020-08-10T22:26:59Z|UCZDdF_p-L88NWVpz...|        Louie's Life|2020-08-12T00:00:00Z|surprising|dad|fa...| 14.15390095374139|11.468921329472174|7.677400430514807| 8.796943893541737|https://i.ytimg.c...|            False|           False|Since I was littl...| Entertainment|\n",
      "|        10|SsWHMAhshPQ|Ovi x Natanael Ca...|2020-08-11T23:00:10Z|UC648rgJOboZlgcDb...|      Rancho Humilde|2020-08-12T00:00:00Z|Vengo De Nada|Ale...|13.515795039814712|11.643813366649333|8.383433201236713| 8.633908991112198|https://i.ytimg.c...|            False|           False|Vengo De Nada - O...|         Music|\n",
      "|        22|49Z6Mv4_WCA|i don't know what...|2020-08-11T20:24:34Z|UCtinbF-Q-fVthA0q...|        CaseyNeistat|2020-08-12T00:00:00Z|              [None]|13.753674515173662|11.374949926025897|7.528869256642251|  8.86120833720818|https://i.ytimg.c...|            False|           False|ssend love to my ...|People & Blogs|\n",
      "|        22|nt3VVyv5pxQ|Try Not To Laugh ...|2020-08-11T17:00:31Z|UCYJPby9DRCteedh5...|           Smosh Pit|2020-08-12T00:00:00Z|smosh|smosh pit|s...|13.290988227768871|10.695778464533518|6.016157159698354|  7.88344635413774|https://i.ytimg.c...|            False|           False|You know what tim...|People & Blogs|\n",
      "|        20|I6hswz4rIrU|Rainbow Six Siege...|2020-08-11T17:13:53Z|UCBMvc6jvuTxH6TNo...|Ubisoft North Ame...|2020-08-12T00:00:00Z|R6|R6S|Siege|New ...|12.678800685197258|  9.56724528946897|6.652863029353347| 7.643003635560718|https://i.ytimg.c...|            False|           False|“Prepare. Execute...|        Gaming|\n",
      "|        10|W7VK4DUHvKU|Lil Yachty & Futu...|2020-08-11T19:00:10Z|UC1X3TRsCt36QPjF1...|       LilYachtyVEVO|2020-08-12T00:00:00Z|Lil Yachty|Lil Bo...|12.932105612050437| 10.18267111473301|5.683579767338681| 7.310550158534422|https://i.ytimg.c...|            False|           False|Watch the officia...|         Music|\n",
      "|        23|W9Aen8hG20Y|When Our Generati...|2020-08-10T22:33:48Z|UCR9NuNwCUIhMOLUQ...|           Kyle Exum|2020-08-12T00:00:00Z|When Our Generati...|13.733499748181039|11.729519615706279|7.425953657077541| 9.708749225727084|https://i.ytimg.c...|            False|           False|500,000 Likes and...|        Comedy|\n",
      "|        22|BNeDH6UTmXw|Ten Minutes with ...|2020-08-11T22:00:05Z|UCMw7m-ScQ6jV1FQz...|       Tyler Cameron|2020-08-12T00:00:00Z|the bachelor|the ...|11.570779192579078| 8.414495793177895|4.248495242049359| 6.513230110912307|https://i.ytimg.c...|            False|           False|Come hang out me ...|People & Blogs|\n",
      "|        24|6TIsR_7nrNc|Kylie Jenner Reac...|2020-08-10T18:41:19Z|UC2rJLq19N0dGrxfi...|       HollywoodLife|2020-08-12T00:00:00Z|kylie jenner|kend...|13.823023266764046| 9.220587688427733|8.978786553302003|  7.92443418488756|https://i.ytimg.c...|            False|           False|Kylie Jenner diss...| Entertainment|\n",
      "|        22|gPdUslndvVI|Our Farm Got Dest...|2020-08-11T23:00:06Z|UCuxlXCfVyV-i5YLL...|   Cole The Cornstar|2020-08-12T00:00:00Z|farming|family fa...|  12.5329958636188|10.533002467851217|5.288267030694535| 8.207129168071326|https://i.ytimg.c...|            False|           False|Wind storm, rain,...|People & Blogs|\n",
      "|        26|GTp-0S82guE|      Time to Talk..|2020-08-11T12:04:40Z|UCCgLoMYIyP0U56dE...|          Chloe Ting|2020-08-12T00:00:00Z|chloe ting|chloet...|14.315341157374817|11.776427543420276|7.262628600974241| 9.666118293957936|https://i.ytimg.c...|            False|           False|I talked about so...| Howto & Style|\n",
      "|        10|jbGRowa5tIk|ITZY “Not Shy” M/...|2020-08-11T15:00:13Z|UCaO6TYtlC8U5ttz6...|   JYP Entertainment|2020-08-12T00:00:00Z|JYP Entertainment...|15.607225526202175| 13.47904152133794|9.627404615927698|10.343031974297155|https://i.ytimg.c...|            False|           False|ITZY Not Shy M/V[...|         Music|\n",
      "+----------+-----------+--------------------+--------------------+--------------------+--------------------+--------------------+--------------------+------------------+------------------+-----------------+------------------+--------------------+-----------------+----------------+--------------------+--------------+\n",
      "only showing top 20 rows\n",
      "\n"
     ]
    }
   ],
   "source": [
    "# Import the necessary libraries\n",
    "from pyspark.sql import SparkSession\n",
    "\n",
    "# Create a SparkSession\n",
    "spark = SparkSession.builder.getOrCreate()\n",
    "\n",
    "file = 'data/results/emotion-english-distilroberta-base.parquet'\n",
    "\n",
    "# Read the Parquet file\n",
    "df = spark.read.parquet(file)\n",
    "\n",
    "# Show the data\n",
    "df.show()\n"
   ]
  }
 ],
 "metadata": {
  "kernelspec": {
   "display_name": "base",
   "language": "python",
   "name": "python3"
  },
  "language_info": {
   "codemirror_mode": {
    "name": "ipython",
    "version": 3
   },
   "file_extension": ".py",
   "mimetype": "text/x-python",
   "name": "python",
   "nbconvert_exporter": "python",
   "pygments_lexer": "ipython3",
   "version": "3.9.17"
  }
 },
 "nbformat": 4,
 "nbformat_minor": 2
}
