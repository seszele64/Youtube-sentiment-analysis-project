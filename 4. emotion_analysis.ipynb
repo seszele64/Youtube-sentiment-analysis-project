{
 "cells": [
  {
   "cell_type": "code",
   "execution_count": 2,
   "metadata": {},
   "outputs": [],
   "source": [
    "# regression analysis of what plays when it comes to emotions and engagement metrics and how they correlate with each other"
   ]
  },
  {
   "cell_type": "code",
   "execution_count": 3,
   "metadata": {},
   "outputs": [],
   "source": [
    "# import libraries\n",
    "import pandas as pd\n",
    "\n",
    "from spark_session_manager import SparkSessionManager\n",
    "from pyspark.sql import functions as F\n"
   ]
  },
  {
   "cell_type": "code",
   "execution_count": 8,
   "metadata": {},
   "outputs": [
    {
     "name": "stderr",
     "output_type": "stream",
     "text": [
      "24/04/22 14:23:24 WARN Utils: Your hostname, gr00stl-Legion-Y540-15IRH-PG0 resolves to a loopback address: 127.0.1.1; using 192.168.1.12 instead (on interface wlp0s20f3)\n",
      "24/04/22 14:23:24 WARN Utils: Set SPARK_LOCAL_IP if you need to bind to another address\n",
      "Setting default log level to \"WARN\".\n",
      "To adjust logging level use sc.setLogLevel(newLevel). For SparkR, use setLogLevel(newLevel).\n",
      "24/04/22 14:23:25 WARN NativeCodeLoader: Unable to load native-hadoop library for your platform... using builtin-java classes where applicable\n"
     ]
    }
   ],
   "source": [
    "spark =  SparkSessionManager().get_spark_session()"
   ]
  },
  {
   "cell_type": "code",
   "execution_count": 10,
   "metadata": {},
   "outputs": [
    {
     "name": "stdout",
     "output_type": "stream",
     "text": [
      "+----------+-----------+--------------------+--------------------+--------------------+--------------+--------------------+--------------------+------------------+------------------+--------+------------------+--------------------+-----------------+----------------+--------------------+--------------+\n",
      "|categoryId|   video_id|               title|         publishedAt|           channelId|  channelTitle|       trending_date|                tags|        view_count|             likes|dislikes|     comment_count|      thumbnail_link|comments_disabled|ratings_disabled|         description| categoryTitle|\n",
      "+----------+-----------+--------------------+--------------------+--------------------+--------------+--------------------+--------------------+------------------+------------------+--------+------------------+--------------------+-----------------+----------------+--------------------+--------------+\n",
      "|        20|_I9T4hxmZXU|Lunar New Year Ma...|2023-01-18T07:59:02Z|UCD1Em4q90ZUK2R5H...|Clash of Clans|2023-01-22T00:00:00Z|clash of clans|CO...|14.698371488939815| 10.99964683504317|     0.0|  8.09376775793108|https://i.ytimg.c...|            False|           False|Celebrate the Yea...|        Gaming|\n",
      "|        24|n5zNdiQEtrQ|LAST PERSON TO MI...|2023-01-17T18:47:24Z|UCWZmCMB7mmKWcXJS...|    Miniminter|2023-01-22T00:00:00Z|simon|sidemen|min...| 15.30450161492226|12.087474903090326|     0.0| 8.460834457746854|https://i.ytimg.c...|            False|           False|What challenge sh...| Entertainment|\n",
      "|        10|tcXraTCoUZE|Coi Leray - Playe...|2023-01-17T18:30:09Z|UCuXs46X66-EJuKgU...|  CoiLerayVEVO|2023-01-22T00:00:00Z|coi leray|trendse...|13.567610579523588| 10.51110407747908|     0.0| 7.213031659834869|https://i.ytimg.c...|            False|           False|Official music vi...|         Music|\n",
      "|        20|axEtYeEH95M|I CHEATED As The ...|2023-01-18T05:25:27Z|UCHU1_dX33AgoHUTx...|         Llama|2023-01-22T00:00:00Z|minecraft|maizen|...| 13.00056403718357| 8.585225601808064|     0.0|4.6443908991413725|https://i.ytimg.c...|            False|           False|Today, Llama and ...|        Gaming|\n",
      "|        22|lhevp_l5csQ|Try Not To Laugh ...|2023-01-17T18:00:18Z|UCYJPby9DRCteedh5...|     Smosh Pit|2023-01-22T00:00:00Z|smosh|smosh pit|s...|13.608016413410294|10.812350768581487|     0.0| 7.697575346802343|https://i.ytimg.c...|            False|           False|IFY IS HERE!SUBSC...|People & Blogs|\n",
      "+----------+-----------+--------------------+--------------------+--------------------+--------------+--------------------+--------------------+------------------+------------------+--------+------------------+--------------------+-----------------+----------------+--------------------+--------------+\n",
      "only showing top 5 rows\n",
      "\n",
      "root\n",
      " |-- categoryId: string (nullable = true)\n",
      " |-- video_id: string (nullable = true)\n",
      " |-- title: string (nullable = true)\n",
      " |-- publishedAt: string (nullable = true)\n",
      " |-- channelId: string (nullable = true)\n",
      " |-- channelTitle: string (nullable = true)\n",
      " |-- trending_date: string (nullable = true)\n",
      " |-- tags: string (nullable = true)\n",
      " |-- view_count: double (nullable = true)\n",
      " |-- likes: double (nullable = true)\n",
      " |-- dislikes: double (nullable = true)\n",
      " |-- comment_count: double (nullable = true)\n",
      " |-- thumbnail_link: string (nullable = true)\n",
      " |-- comments_disabled: string (nullable = true)\n",
      " |-- ratings_disabled: string (nullable = true)\n",
      " |-- description: string (nullable = true)\n",
      " |-- categoryTitle: string (nullable = true)\n",
      "\n"
     ]
    }
   ],
   "source": [
    "# load data (parquet)\n",
    "df = spark.read.parquet(\"data/processed/tranformed_US_youtube_trending_data_min.parquet\")\n",
    "\n",
    "# show head\n",
    "df.show(5)\n",
    "\n",
    "# show schema\n",
    "df.printSchema()"
   ]
  },
  {
   "cell_type": "code",
   "execution_count": null,
   "metadata": {},
   "outputs": [],
   "source": [
    "# build base model"
   ]
  },
  {
   "cell_type": "code",
   "execution_count": null,
   "metadata": {},
   "outputs": [],
   "source": [
    "## evaluate model"
   ]
  },
  {
   "cell_type": "code",
   "execution_count": null,
   "metadata": {},
   "outputs": [],
   "source": [
    "# build imporved model (maybe with interactions?)"
   ]
  }
 ],
 "metadata": {
  "kernelspec": {
   "display_name": "base",
   "language": "python",
   "name": "python3"
  },
  "language_info": {
   "codemirror_mode": {
    "name": "ipython",
    "version": 3
   },
   "file_extension": ".py",
   "mimetype": "text/x-python",
   "name": "python",
   "nbconvert_exporter": "python",
   "pygments_lexer": "ipython3",
   "version": "3.11.5"
  }
 },
 "nbformat": 4,
 "nbformat_minor": 2
}
