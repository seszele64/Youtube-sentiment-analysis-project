{
 "cells": [
  {
   "cell_type": "code",
   "execution_count": 1,
   "metadata": {},
   "outputs": [
    {
     "name": "stderr",
     "output_type": "stream",
     "text": [
      "24/03/28 17:27:29 WARN Utils: Your hostname, gr00stl-Legion-Y540-15IRH-PG0 resolves to a loopback address: 127.0.1.1; using 192.168.1.12 instead (on interface wlp0s20f3)\n",
      "24/03/28 17:27:29 WARN Utils: Set SPARK_LOCAL_IP if you need to bind to another address\n",
      "Setting default log level to \"WARN\".\n",
      "To adjust logging level use sc.setLogLevel(newLevel). For SparkR, use setLogLevel(newLevel).\n",
      "24/03/28 17:27:29 WARN NativeCodeLoader: Unable to load native-hadoop library for your platform... using builtin-java classes where applicable\n",
      "                                                                                \r"
     ]
    }
   ],
   "source": [
    "from spark_session_manager import SparkSessionManager\n",
    "\n",
    "# Get the Spark session\n",
    "spark = SparkSessionManager.get_spark_session()\n",
    "\n",
    "# Read the data\n",
    "df = spark.read.parquet(\"data/US_youtube_trending_data.parquet\")\n"
   ]
  },
  {
   "cell_type": "markdown",
   "metadata": {},
   "source": [
    "## Engagement metrics"
   ]
  },
  {
   "cell_type": "markdown",
   "metadata": {},
   "source": [
    "a lot of values in column dislikes are '0', thus eng. metrics will not use it"
   ]
  },
  {
   "cell_type": "markdown",
   "metadata": {},
   "source": [
    "- view_to_like_ratio = view_count / likes\n",
    "- like_to_comment_ratio = likes / comment_count\n",
    "- engagement_rate = ((likes + comment_count) / view_count) * 100\n",
    "- comments_per_view = comment_count / view_count"
   ]
  },
  {
   "cell_type": "code",
   "execution_count": 2,
   "metadata": {},
   "outputs": [],
   "source": [
    "# introduce engagement metrics\n",
    "\n",
    "from pyspark.sql import functions as F\n"
   ]
  },
  {
   "cell_type": "code",
   "execution_count": null,
   "metadata": {},
   "outputs": [],
   "source": [
    "df = df.withColumn(\"view_to_like_ratio\", F.col(\"view_count\") / F.col(\"likes\")) \\\n",
    "    .withColumn(\"like_to_comment_ratio\", F.col(\"likes\") / F.col(\"comment_count\")) \\\n",
    "    .withColumn(\"engagement_rate\", ((F.col(\"likes\") + F.col(\"comment_count\")) / F.col(\"view_count\")) * 100) \\\n",
    "    .withColumn(\"comments_per_view\", F.col(\"comment_count\") / F.col(\"view_count\")) \\\n",
    "    .withColumn(\"average_views_per_day\", F.col(\"view_count\") / F.datediff(F.col(\"trending_date\"), F.col(\"publishedAt\")))\n"
   ]
  }
 ],
 "metadata": {
  "kernelspec": {
   "display_name": "base",
   "language": "python",
   "name": "python3"
  },
  "language_info": {
   "codemirror_mode": {
    "name": "ipython",
    "version": 3
   },
   "file_extension": ".py",
   "mimetype": "text/x-python",
   "name": "python",
   "nbconvert_exporter": "python",
   "pygments_lexer": "ipython3",
   "version": "3.9.17"
  }
 },
 "nbformat": 4,
 "nbformat_minor": 2
}
